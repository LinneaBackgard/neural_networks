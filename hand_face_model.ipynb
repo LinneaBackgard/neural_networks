{
  "cells": [
    {
      "cell_type": "code",
      "execution_count": 2,
      "metadata": {
        "id": "Czo3YALFeV6P"
      },
      "outputs": [],
      "source": [
        "import matplotlib.pyplot as plt\n",
        "import numpy as numpy\n",
        "import pandas as pd\n",
        "import seaborn as sns\n",
        "import os\n",
        "\n",
        "# Importing Deep Learning Libraries\n",
        "\n",
        "from keras.preprocessing.image import load_img, img_to_array\n",
        "from keras.preprocessing.image import ImageDataGenerator\n",
        "from keras.layers import Dense, Input, Dropout, GlobalAveragePooling2D, Flatten, Conv2D, BatchNormalization, Activation, MaxPooling2D\n",
        "from keras.models import Model, Sequential\n",
        "from keras.optimizers import Adam, SGD, RMSprop\n",
        "\n",
        "from google.colab import files\n",
        "\n",
        "# Making and copying a smaller subset\n",
        "import random\n",
        "import shutil\n",
        "\n",
        "# Fitting the model\n",
        "from keras.callbacks import ModelCheckpoint, EarlyStopping, ReduceLROnPlateau"
      ]
    },
    {
      "cell_type": "code",
      "execution_count": 2,
      "metadata": {
        "colab": {
          "base_uri": "https://localhost:8080/",
          "height": 55
        },
        "id": "dh3pJ0fled6q",
        "outputId": "b7eeb295-62fc-4160-ef8c-37f116a57ef2"
      },
      "outputs": [
        {
          "output_type": "display_data",
          "data": {
            "text/plain": [
              "<IPython.core.display.HTML object>"
            ],
            "text/html": [
              "\n",
              "     <input type=\"file\" id=\"files-737057b6-4690-4042-8050-6c30cd231499\" name=\"files[]\" multiple disabled\n",
              "        style=\"border:none\" />\n",
              "     <output id=\"result-737057b6-4690-4042-8050-6c30cd231499\">\n",
              "      Upload widget is only available when the cell has been executed in the\n",
              "      current browser session. Please rerun this cell to enable.\n",
              "      </output>\n",
              "      <script>// Copyright 2017 Google LLC\n",
              "//\n",
              "// Licensed under the Apache License, Version 2.0 (the \"License\");\n",
              "// you may not use this file except in compliance with the License.\n",
              "// You may obtain a copy of the License at\n",
              "//\n",
              "//      http://www.apache.org/licenses/LICENSE-2.0\n",
              "//\n",
              "// Unless required by applicable law or agreed to in writing, software\n",
              "// distributed under the License is distributed on an \"AS IS\" BASIS,\n",
              "// WITHOUT WARRANTIES OR CONDITIONS OF ANY KIND, either express or implied.\n",
              "// See the License for the specific language governing permissions and\n",
              "// limitations under the License.\n",
              "\n",
              "/**\n",
              " * @fileoverview Helpers for google.colab Python module.\n",
              " */\n",
              "(function(scope) {\n",
              "function span(text, styleAttributes = {}) {\n",
              "  const element = document.createElement('span');\n",
              "  element.textContent = text;\n",
              "  for (const key of Object.keys(styleAttributes)) {\n",
              "    element.style[key] = styleAttributes[key];\n",
              "  }\n",
              "  return element;\n",
              "}\n",
              "\n",
              "// Max number of bytes which will be uploaded at a time.\n",
              "const MAX_PAYLOAD_SIZE = 100 * 1024;\n",
              "\n",
              "function _uploadFiles(inputId, outputId) {\n",
              "  const steps = uploadFilesStep(inputId, outputId);\n",
              "  const outputElement = document.getElementById(outputId);\n",
              "  // Cache steps on the outputElement to make it available for the next call\n",
              "  // to uploadFilesContinue from Python.\n",
              "  outputElement.steps = steps;\n",
              "\n",
              "  return _uploadFilesContinue(outputId);\n",
              "}\n",
              "\n",
              "// This is roughly an async generator (not supported in the browser yet),\n",
              "// where there are multiple asynchronous steps and the Python side is going\n",
              "// to poll for completion of each step.\n",
              "// This uses a Promise to block the python side on completion of each step,\n",
              "// then passes the result of the previous step as the input to the next step.\n",
              "function _uploadFilesContinue(outputId) {\n",
              "  const outputElement = document.getElementById(outputId);\n",
              "  const steps = outputElement.steps;\n",
              "\n",
              "  const next = steps.next(outputElement.lastPromiseValue);\n",
              "  return Promise.resolve(next.value.promise).then((value) => {\n",
              "    // Cache the last promise value to make it available to the next\n",
              "    // step of the generator.\n",
              "    outputElement.lastPromiseValue = value;\n",
              "    return next.value.response;\n",
              "  });\n",
              "}\n",
              "\n",
              "/**\n",
              " * Generator function which is called between each async step of the upload\n",
              " * process.\n",
              " * @param {string} inputId Element ID of the input file picker element.\n",
              " * @param {string} outputId Element ID of the output display.\n",
              " * @return {!Iterable<!Object>} Iterable of next steps.\n",
              " */\n",
              "function* uploadFilesStep(inputId, outputId) {\n",
              "  const inputElement = document.getElementById(inputId);\n",
              "  inputElement.disabled = false;\n",
              "\n",
              "  const outputElement = document.getElementById(outputId);\n",
              "  outputElement.innerHTML = '';\n",
              "\n",
              "  const pickedPromise = new Promise((resolve) => {\n",
              "    inputElement.addEventListener('change', (e) => {\n",
              "      resolve(e.target.files);\n",
              "    });\n",
              "  });\n",
              "\n",
              "  const cancel = document.createElement('button');\n",
              "  inputElement.parentElement.appendChild(cancel);\n",
              "  cancel.textContent = 'Cancel upload';\n",
              "  const cancelPromise = new Promise((resolve) => {\n",
              "    cancel.onclick = () => {\n",
              "      resolve(null);\n",
              "    };\n",
              "  });\n",
              "\n",
              "  // Wait for the user to pick the files.\n",
              "  const files = yield {\n",
              "    promise: Promise.race([pickedPromise, cancelPromise]),\n",
              "    response: {\n",
              "      action: 'starting',\n",
              "    }\n",
              "  };\n",
              "\n",
              "  cancel.remove();\n",
              "\n",
              "  // Disable the input element since further picks are not allowed.\n",
              "  inputElement.disabled = true;\n",
              "\n",
              "  if (!files) {\n",
              "    return {\n",
              "      response: {\n",
              "        action: 'complete',\n",
              "      }\n",
              "    };\n",
              "  }\n",
              "\n",
              "  for (const file of files) {\n",
              "    const li = document.createElement('li');\n",
              "    li.append(span(file.name, {fontWeight: 'bold'}));\n",
              "    li.append(span(\n",
              "        `(${file.type || 'n/a'}) - ${file.size} bytes, ` +\n",
              "        `last modified: ${\n",
              "            file.lastModifiedDate ? file.lastModifiedDate.toLocaleDateString() :\n",
              "                                    'n/a'} - `));\n",
              "    const percent = span('0% done');\n",
              "    li.appendChild(percent);\n",
              "\n",
              "    outputElement.appendChild(li);\n",
              "\n",
              "    const fileDataPromise = new Promise((resolve) => {\n",
              "      const reader = new FileReader();\n",
              "      reader.onload = (e) => {\n",
              "        resolve(e.target.result);\n",
              "      };\n",
              "      reader.readAsArrayBuffer(file);\n",
              "    });\n",
              "    // Wait for the data to be ready.\n",
              "    let fileData = yield {\n",
              "      promise: fileDataPromise,\n",
              "      response: {\n",
              "        action: 'continue',\n",
              "      }\n",
              "    };\n",
              "\n",
              "    // Use a chunked sending to avoid message size limits. See b/62115660.\n",
              "    let position = 0;\n",
              "    do {\n",
              "      const length = Math.min(fileData.byteLength - position, MAX_PAYLOAD_SIZE);\n",
              "      const chunk = new Uint8Array(fileData, position, length);\n",
              "      position += length;\n",
              "\n",
              "      const base64 = btoa(String.fromCharCode.apply(null, chunk));\n",
              "      yield {\n",
              "        response: {\n",
              "          action: 'append',\n",
              "          file: file.name,\n",
              "          data: base64,\n",
              "        },\n",
              "      };\n",
              "\n",
              "      let percentDone = fileData.byteLength === 0 ?\n",
              "          100 :\n",
              "          Math.round((position / fileData.byteLength) * 100);\n",
              "      percent.textContent = `${percentDone}% done`;\n",
              "\n",
              "    } while (position < fileData.byteLength);\n",
              "  }\n",
              "\n",
              "  // All done.\n",
              "  yield {\n",
              "    response: {\n",
              "      action: 'complete',\n",
              "    }\n",
              "  };\n",
              "}\n",
              "\n",
              "scope.google = scope.google || {};\n",
              "scope.google.colab = scope.google.colab || {};\n",
              "scope.google.colab._files = {\n",
              "  _uploadFiles,\n",
              "  _uploadFilesContinue,\n",
              "};\n",
              "})(self);\n",
              "</script> "
            ]
          },
          "metadata": {}
        },
        {
          "output_type": "execute_result",
          "data": {
            "text/plain": [
              "{}"
            ]
          },
          "metadata": {},
          "execution_count": 2
        }
      ],
      "source": [
        "files.upload()"
      ]
    },
    {
      "cell_type": "code",
      "execution_count": null,
      "metadata": {
        "id": "9M47siVWfHf9"
      },
      "outputs": [],
      "source": [
        "!mkdir ~/.kaggle\n",
        "!cp kaggle.json ~/.kaggle/\n",
        "!chmod 600 ~/.kaggle/kaggle.json"
      ]
    },
    {
      "cell_type": "code",
      "execution_count": null,
      "metadata": {
        "colab": {
          "base_uri": "https://localhost:8080/"
        },
        "id": "5-xchIT2fpBw",
        "outputId": "f36db82a-6db2-4ac2-d9a8-e21a3f5e4d5a"
      },
      "outputs": [
        {
          "output_type": "stream",
          "name": "stdout",
          "text": [
            "Downloading face-expression-recognition-dataset.zip to /content\n",
            " 89% 107M/121M [00:00<00:00, 155MB/s] \n",
            "100% 121M/121M [00:00<00:00, 150MB/s]\n"
          ]
        }
      ],
      "source": [
        "!kaggle datasets download -d jonathanoheix/face-expression-recognition-dataset"
      ]
    },
    {
      "cell_type": "code",
      "execution_count": null,
      "metadata": {
        "id": "dCfuM2VhfuEp"
      },
      "outputs": [],
      "source": [
        "!unzip face-expression-recognition-dataset.zip\n"
      ]
    },
    {
      "cell_type": "code",
      "execution_count": null,
      "metadata": {
        "colab": {
          "base_uri": "https://localhost:8080/"
        },
        "id": "zixJ7c93h4OF",
        "outputId": "04538af9-e88c-4655-c49e-6424a78925bc"
      },
      "outputs": [
        {
          "output_type": "stream",
          "name": "stdout",
          "text": [
            "face-expression-recognition-dataset.zip  images  kaggle.json  sample_data\n"
          ]
        }
      ],
      "source": [
        "!ls\n"
      ]
    },
    {
      "cell_type": "code",
      "execution_count": null,
      "metadata": {
        "colab": {
          "base_uri": "https://localhost:8080/"
        },
        "id": "1OxccNwDifJ8",
        "outputId": "ed039b53-0fea-4f93-ec5d-59239d80b7a0"
      },
      "outputs": [
        {
          "output_type": "stream",
          "name": "stdout",
          "text": [
            "ls: cannot access 'folder-name': No such file or directory\n"
          ]
        }
      ],
      "source": [
        "!ls folder-name\n"
      ]
    },
    {
      "cell_type": "code",
      "execution_count": null,
      "metadata": {
        "colab": {
          "base_uri": "https://localhost:8080/"
        },
        "id": "N5jZTOOTij_P",
        "outputId": "e8cb6876-c4d2-41a9-def3-bea65c0f6895"
      },
      "outputs": [
        {
          "output_type": "stream",
          "name": "stdout",
          "text": [
            "/content\n"
          ]
        }
      ],
      "source": [
        "%cd /content\n"
      ]
    },
    {
      "cell_type": "code",
      "execution_count": null,
      "metadata": {
        "colab": {
          "base_uri": "https://localhost:8080/"
        },
        "id": "xltNeUYgjFrk",
        "outputId": "fd841992-7fe0-4817-9af0-8f72217fa1ca"
      },
      "outputs": [
        {
          "output_type": "stream",
          "name": "stdout",
          "text": [
            "face-expression-recognition-dataset.zip  images  kaggle.json  sample_data\n"
          ]
        }
      ],
      "source": [
        "\n",
        "!ls\n"
      ]
    },
    {
      "cell_type": "code",
      "execution_count": null,
      "metadata": {
        "colab": {
          "base_uri": "https://localhost:8080/"
        },
        "id": "S_47HASrjOGP",
        "outputId": "c0e69f0c-71b8-4d54-fc77-6ae9eb322d2f"
      },
      "outputs": [
        {
          "output_type": "stream",
          "name": "stdout",
          "text": [
            "images\ttrain  validation\n"
          ]
        }
      ],
      "source": [
        "!ls images\n"
      ]
    },
    {
      "cell_type": "code",
      "execution_count": null,
      "metadata": {
        "colab": {
          "base_uri": "https://localhost:8080/"
        },
        "id": "GPkUHM7kjThn",
        "outputId": "09854ce2-1a88-48d1-aef2-efa786ee5785"
      },
      "outputs": [
        {
          "output_type": "stream",
          "name": "stdout",
          "text": [
            "ls: cannot access 'train': No such file or directory\n",
            "ls: cannot access 'validation': No such file or directory\n"
          ]
        }
      ],
      "source": [
        "!ls train\n",
        "!ls validation\n"
      ]
    },
    {
      "cell_type": "code",
      "execution_count": null,
      "metadata": {
        "colab": {
          "base_uri": "https://localhost:8080/"
        },
        "id": "5YSXu-Dtj01D",
        "outputId": "1a395960-cf30-4be8-c7c5-bc62ddad0432"
      },
      "outputs": [
        {
          "output_type": "stream",
          "name": "stdout",
          "text": [
            "[Errno 2] No such file or directory: '/images'\n",
            "/content\n"
          ]
        }
      ],
      "source": [
        "%cd /images\n"
      ]
    },
    {
      "cell_type": "code",
      "execution_count": null,
      "metadata": {
        "colab": {
          "base_uri": "https://localhost:8080/"
        },
        "id": "DEeeEZ2wkFl3",
        "outputId": "51a619be-ea94-41dd-ad4b-2180c682cb16"
      },
      "outputs": [
        {
          "output_type": "stream",
          "name": "stdout",
          "text": [
            "angry  disgust\tfear  happy  neutral  sad  surprise\n",
            "angry  disgust\tfear  happy  neutral  sad  surprise\n"
          ]
        }
      ],
      "source": [
        "!ls images/train\n",
        "!ls images/validation\n"
      ]
    },
    {
      "cell_type": "code",
      "execution_count": null,
      "metadata": {
        "colab": {
          "base_uri": "https://localhost:8080/"
        },
        "id": "mFfEs9Ummaj3",
        "outputId": "23fba1bb-1849-46af-b2e5-fd4f043ffa54"
      },
      "outputs": [
        {
          "output_type": "stream",
          "name": "stdout",
          "text": [
            "first images\n",
            "angry  disgust\tfear  happy  neutral  sad  surprise\n",
            "angry  disgust\tfear  happy  neutral  sad  surprise\n",
            "second images\n",
            "angry  disgust\tfear  happy  neutral  sad  surprise\n",
            "angry  disgust\tfear  happy  neutral  sad  surprise\n"
          ]
        }
      ],
      "source": [
        "# Check in the first set of train and validation folders\n",
        "print(\"first images\")\n",
        "!ls images/train\n",
        "!ls images/validation\n",
        "\n",
        "# Check in the nested train and validation folders\n",
        "print(\"second images\")\n",
        "!ls images/images/train\n",
        "!ls images/images/validation\n"
      ]
    },
    {
      "cell_type": "code",
      "execution_count": null,
      "metadata": {
        "id": "13oc8NCaoJdX"
      },
      "outputs": [],
      "source": [
        "picture_size = 48\n",
        "folder_path = \"./images\""
      ]
    },
    {
      "cell_type": "code",
      "execution_count": null,
      "metadata": {
        "id": "CgjSHVpQrCwq"
      },
      "outputs": [],
      "source": [
        "full_train_set = \"./images/train\"\n",
        "full_test_set = \"./images/validation\""
      ]
    },
    {
      "cell_type": "code",
      "execution_count": null,
      "metadata": {
        "id": "3JJlJEt1pzlx"
      },
      "outputs": [],
      "source": [
        "# Function for making a testset - DIDN`T RUN FOR FINAL MODEL\n",
        "def create_train_test_split(source_folder, train_folder, test_folder, test_split=0.15):\n",
        "    os.makedirs(train_folder, exist_ok=True)\n",
        "    os.makedirs(test_folder, exist_ok=True)\n",
        "\n",
        "    for expression in os.listdir(source_folder):\n",
        "        source_expression_path = os.path.join(source_folder, expression)\n",
        "        train_expression_path = os.path.join(train_folder, expression)\n",
        "        test_expression_path = os.path.join(test_folder, expression)\n",
        "        os.makedirs(train_expression_path, exist_ok=True)\n",
        "        os.makedirs(test_expression_path, exist_ok=True)\n",
        "\n",
        "        if os.path.isdir(source_expression_path):\n",
        "            images = os.listdir(source_expression_path)\n",
        "            random.shuffle(images)\n",
        "            split_index = int(len(images) * (1 - test_split))\n",
        "            train_images, test_images = images[:split_index], images[split_index:]\n",
        "\n",
        "            for img in train_images:\n",
        "                shutil.copyfile(os.path.join(source_expression_path, img), os.path.join(train_expression_path, img))\n",
        "            for img in test_images:\n",
        "                shutil.copyfile(os.path.join(source_expression_path, img), os.path.join(test_expression_path, img))\n"
      ]
    },
    {
      "cell_type": "code",
      "execution_count": null,
      "metadata": {
        "id": "r3wbKBG5sOZP"
      },
      "outputs": [],
      "source": [
        "# DIDN´T RUN FOR FINAL MODEL\n",
        "create_train_test_split('images/train', 'new_train', 'new_val')\n",
        "\n",
        "new_train = 'new_train'\n",
        "new_val = 'new_val'\n"
      ]
    },
    {
      "cell_type": "code",
      "execution_count": null,
      "metadata": {
        "colab": {
          "base_uri": "https://localhost:8080/"
        },
        "id": "bjmkrOzEuDKU",
        "outputId": "b21911d7-2338-4800-ad0e-6349b8d577e5"
      },
      "outputs": [
        {
          "output_type": "stream",
          "name": "stdout",
          "text": [
            "Antal bilder i träningssetet: 28821\n",
            "Antal bilder i valideringssetet: 7066\n"
          ]
        }
      ],
      "source": [
        "# Funktion för att räkna filerna i undermapparna\n",
        "def count_files_in_directory(directory):\n",
        "    count = 0\n",
        "    for root, dirs, files in os.walk(directory):\n",
        "        count += len(files)\n",
        "    return count\n",
        "\n",
        "train_count = count_files_in_directory(full_train_set)\n",
        "val_count = count_files_in_directory(full_test_set)\n",
        "\n",
        "print(f\"Antal bilder i träningssetet: {train_count}\")\n",
        "print(f\"Antal bilder i valideringssetet: {val_count}\")\n"
      ]
    },
    {
      "cell_type": "code",
      "execution_count": null,
      "metadata": {
        "id": "j4pAwUdhreIA"
      },
      "outputs": [],
      "source": []
    },
    {
      "cell_type": "code",
      "execution_count": null,
      "metadata": {
        "id": "8S_inifEky5f"
      },
      "outputs": [],
      "source": [
        "# Function for making a smaller subset of the dataset to work faster and more efficiently - DON´T RUN FOR THE FINAL MODEL.\n",
        "def create_subset(source_folder, target_folder, num_samples_per_class):\n",
        "    os.makedirs(target_folder, exist_ok=True)\n",
        "    for expression in os.listdir(source_folder):\n",
        "        source_expression_path = os.path.join(source_folder, expression)\n",
        "        target_expression_path = os.path.join(target_folder, expression)\n",
        "        os.makedirs(target_expression_path, exist_ok=True)\n",
        "\n",
        "        if os.path.isdir(source_expression_path):\n",
        "            images = os.listdir(source_expression_path)\n",
        "            selected_images = random.sample(images, min(len(images), num_samples_per_class))\n",
        "\n",
        "            for img in selected_images:\n",
        "                src_path = os.path.join(source_expression_path, img)\n",
        "                dst_path = os.path.join(target_expression_path, img)\n",
        "                shutil.copyfile(src_path, dst_path)\n"
      ]
    },
    {
      "cell_type": "code",
      "execution_count": null,
      "metadata": {
        "id": "RAI62LBalMEP"
      },
      "outputs": [],
      "source": [
        "# DON´T RUN FOR FINAL MODEL\n",
        "num_samples_per_class_train = 3000  # Antal bilder per klass\n",
        "num_samples_per_class_val = int(3000*0.2) # konverterar till heltal\n",
        "\n",
        "\n",
        "create_subset('new_train', 'small_train', num_samples_per_class_train)\n",
        "create_subset('new_val', 'small_val', num_samples_per_class_val)\n"
      ]
    },
    {
      "cell_type": "code",
      "execution_count": null,
      "metadata": {
        "colab": {
          "base_uri": "https://localhost:8080/",
          "height": 279
        },
        "id": "mEc0rlSmsUM8",
        "outputId": "143fef0d-b6fe-4e94-e979-b4726ec697c1"
      },
      "outputs": [
        {
          "output_type": "display_data",
          "data": {
            "text/plain": [
              "<Figure size 300x300 with 12 Axes>"
            ],
            "image/png": "[encoded data removed]"
          },
          "metadata": {}
        }
      ],
      "source": [
        "expression = 'happy'\n",
        "small_train_folder_path = full_train_set  # Uppdaterad sökväg\n",
        "\n",
        "plt.figure(figsize=(3, 3))\n",
        "for i in range(1, 13, 1):\n",
        "    plt.subplot(3, 4, i)\n",
        "    img_path = os.path.join(small_train_folder_path, expression, os.listdir(os.path.join(small_train_folder_path, expression))[i])\n",
        "    img = load_img(img_path, target_size=(picture_size, picture_size))\n",
        "    plt.imshow(img)\n",
        "plt.show()\n"
      ]
    },
    {
      "cell_type": "markdown",
      "metadata": {
        "id": "_aXaKKwYFKkh"
      },
      "source": [
        "## Train and test set\n"
      ]
    },
    {
      "cell_type": "code",
      "execution_count": null,
      "metadata": {
        "colab": {
          "base_uri": "https://localhost:8080/"
        },
        "id": "ho9WSBD6FUkT",
        "outputId": "d49c73c3-0d76-44ec-dd32-60683501dd22"
      },
      "outputs": [
        {
          "output_type": "stream",
          "name": "stdout",
          "text": [
            "Found 28821 images belonging to 7 classes.\n",
            "Found 7066 images belonging to 7 classes.\n"
          ]
        }
      ],
      "source": [
        "batch_size = 128\n",
        "\n",
        "datagen_train = ImageDataGenerator(rescale=1./255)  # Normalisera bilderna\n",
        "\n",
        "    # rotation_range=10,  # Milda rotationer\n",
        "    # width_shift_range=0.1,  # Milt horisontellt skift\n",
        "    # height_shift_range=0.1,  # Milt vertikalt skift\n",
        "    # shear_range=0.1,  # Mild shear transformation\n",
        "    # zoom_range=0.1,  # Mild zoomning\n",
        "    # horizontal_flip=True  # Horisontell vändning\n",
        "# )\n",
        "\n",
        "datagen_val = ImageDataGenerator(rescale=1./255)\n",
        "datagen_test = ImageDataGenerator(rescale=1./255)\n",
        "\n",
        "train_set = datagen_train.flow_from_directory(full_train_set,\n",
        "                                              target_size=(picture_size, picture_size),\n",
        "                                              color_mode=\"rgb\",\n",
        "                                              batch_size=batch_size,\n",
        "                                              class_mode=\"categorical\",\n",
        "                                              shuffle=True)\n",
        "\n",
        "# val_set = datagen_test.flow_from_directory('new_val',\n",
        "                                            # target_size=(picture_size, picture_size),\n",
        "                                            # color_mode=\"grayscale\",\n",
        "                                            # batch_size=batch_size,\n",
        "                                            # class_mode=\"categorical\",\n",
        "                                            # shuffle=False)\n",
        "\n",
        "test_set = datagen_test.flow_from_directory(full_test_set,\n",
        "                                           target_size=(picture_size, picture_size),\n",
        "                                           color_mode=\"rgb\",\n",
        "                                           batch_size=batch_size,\n",
        "                                           class_mode=\"categorical\",\n",
        "                                           shuffle=False)\n"
      ]
    },
    {
      "cell_type": "markdown",
      "metadata": {
        "id": "iYPOiW8p_Ufa"
      },
      "source": [
        "## Ändringar\n",
        "Första:\n",
        "- datagen_train = ImageDataGenerator(\n",
        "    rotation_range=20,\n",
        "    width_shift_range=0.2,\n",
        "    height_shift_range=0.2,\n",
        "    shear_range=0.2,\n",
        "    zoom_range=0.2,\n",
        "    horizontal_flip=True\n",
        ") istället för bara datagen_train = ImageDataGenerator()\n",
        "- batch_size = 100 istället för 128\n",
        "- Dropout från 0.25 till 0.4\n",
        "- model.add(GlobalAveragePooling2D()) istället för model.add(Flatten())\n",
        "- (optimizer=Adam(lr=0.00005) istället för (optimizer=Adam(lr=0.0001)\n",
        "- epochs = 12 istället för 48\n",
        "- Resultat: Epoch 8: ReduceLROnPlateau reducing learning rate to 0.00020000000949949026.\n",
        "63/63 [==============================] - 233s 4s/step - loss: 1.9212 - accuracy: 0.2057 - val_loss: 1.9222 - val_accuracy: 0.2100 - lr: 0.0010\n",
        "Epoch 8: early stopping\n",
        "\n"
      ]
    },
    {
      "cell_type": "markdown",
      "metadata": {
        "id": "k96qz-5eWR-E"
      },
      "source": [
        "# Ändringar 2\n",
        "- batch_size 150\n",
        "- tillbaks tilll datagen_train = ImageDataGenerator() utan variationer\n",
        "- Dropout 0.3\n",
        "- tillbaka till Flatten()\n",
        "- optimizer ändrad till opt = RMSprop(lr=0.0001)\n",
        "- images = 2000 i train och (2000*0.2) i val\n",
        "- Resultat: Epoch 12: ReduceLROnPlateau reducing learning rate to 0.00020000000949949026.\n",
        "82/82 [==============================] - 463s 6s/step - loss: 0.8325 - accuracy: 0.6896 - val_loss: 1.3965 - val_accuracy: 0.5042 - lr: 0.0010\n",
        "Epoch 12: early stopping\n",
        "- Träningstid ca 2-3 timmar"
      ]
    },
    {
      "cell_type": "markdown",
      "metadata": {
        "id": "YHS4DEq_Ocpp"
      },
      "source": [
        "# Ändringar 3\n",
        "- datagen_train = ImageDataGenerator(\n",
        "    rotation_range=10,  # Milda rotationer\n",
        "    width_shift_range=0.1,  # Milt horisontellt skift\n",
        "    height_shift_range=0.1,  # Milt vertikalt skift\n",
        "    shear_range=0.1,  # Mild shear transformation\n",
        "    zoom_range=0.1,  # Mild zoomning\n",
        "    horizontal_flip=True  # Horisontell vändning\n",
        ")\n",
        "- # 1st CNN layer\n",
        "model.add(Conv2D(32, (3, 3), padding='same', input_shape=(48, 48, 1)))  # Mindre antal filter\n",
        "- lagt till ett till lager med 64 , ändrat kernel från (3, 3) till (4, 4)\n",
        "- early stopping har patience=4 istället för 3\n",
        "- epochs 20 istället för 12\n",
        "- körning är med T4 GPU istället för CPU"
      ]
    },
    {
      "cell_type": "markdown",
      "metadata": {
        "id": "m7emSEIHfIQ7"
      },
      "source": [
        "# Ändringar 4\n",
        "- Modellarkitekturen tillbaka till original\n",
        "- har kvar denna från ändringar 3: datagen_train = ImageDataGenerator( rotation_range=10, # Milda rotationer width_shift_range=0.1, # Milt horisontellt skift height_shift_range=0.1, # Milt vertikalt skift shear_range=0.1, # Mild shear transformation zoom_range=0.1, # Mild zoomning horizontal_flip=True # Horisontell vändning )\n",
        "- early stopping har patience=5 istället för 3\n",
        "epochs 20 istället för 12\n",
        "körning är med T4 GPU istället för CPU\n",
        "- epochs 48\n",
        "-batch_size 200\n",
        "- den förbättrades för sakta, avbröt"
      ]
    },
    {
      "cell_type": "markdown",
      "metadata": {
        "id": "8uxXxhXDx4dH"
      },
      "source": [
        "# Ändringar 5\n",
        "- Modellarkitekturen tillbaka till original\n",
        "- datagen_train tillbaka utan variation\n",
        "- early stopping har patience=5 istället för 3\n",
        "epochs 20 istället för 12\n",
        "körning är med T4 GPU istället för CPU\n",
        "- epochs 48\n",
        "-batch_size 200\n",
        "Epoch 17: val_accuracy did not improve from 0.57667\n",
        "76/76 [==============================] - 7s 94ms/step - loss: 0.6508 - accuracy: 0.7630 - val_loss: 1.2076 - val_accuracy: 0.5733 - lr: 4.0000e-05\n",
        "Epoch 17: early stopping"
      ]
    },
    {
      "cell_type": "markdown",
      "metadata": {
        "id": "9JgQJ_lfj-Ww"
      },
      "source": [
        "# Resultat innan normalisering\n",
        "-\n",
        "-Epoch 21: val_accuracy improved from 0.63963 to 0.64105, saving model to ./model.h5\n",
        "225/225 [==============================] - 14s 61ms/step - loss: 0.6067 - accuracy: 0.7768 - val_loss: 1.0405 - val_accuracy: 0.6411 - lr: 8.0000e-06\n",
        "Epoch 22/48\n",
        "225/225 [==============================] - ETA: 0s - loss: 0.5964 - accuracy: 0.7777Restoring model weights from the end of the best epoch: 17.\n"
      ]
    },
    {
      "cell_type": "markdown",
      "source": [
        "# Resultat efter normalisering\n",
        "- Epoch 18: val_accuracy improved from 0.64034 to 0.64801, saving model to ./model.h5\n",
        "225/225 [==============================] - 1183s 5s/step - loss: 0.5249 - accuracy: 0.8066 - val_loss: 1.0603 - val_accuracy: 0.6480 - lr: 4.0000e-05\n"
      ],
      "metadata": {
        "id": "QYWBzCKUC_BR"
      }
    },
    {
      "cell_type": "markdown",
      "source": [
        "# Resultat 2 efter normalisering\n",
        "- Epoch 18: val_accuracy improved from 0.63864 to 0.64006, saving model to ./model.h5\n",
        "225/225 [==============================] - 16s 69ms/step - loss: 0.5450 - accuracy: 0.7971 - val_loss: 1.0661 - val_accuracy: 0.6401 - lr: 4.0000e-05\n",
        "Epoch 18: early stopping\n",
        "\n",
        "\n"
      ],
      "metadata": {
        "id": "JQ-mfnyXHrPU"
      }
    },
    {
      "cell_type": "code",
      "execution_count": null,
      "metadata": {
        "colab": {
          "base_uri": "https://localhost:8080/"
        },
        "id": "ieXVQH-vHSf9",
        "outputId": "b3a37c40-e41d-4718-8ea1-baa9882f56ec"
      },
      "outputs": [
        {
          "output_type": "stream",
          "name": "stderr",
          "text": [
            "WARNING:absl:`lr` is deprecated in Keras optimizer, please use `learning_rate` or use the legacy optimizer, e.g.,tf.keras.optimizers.legacy.RMSprop.\n"
          ]
        },
        {
          "output_type": "stream",
          "name": "stdout",
          "text": [
            "Model: \"sequential\"\n",
            "_________________________________________________________________\n",
            " Layer (type)                Output Shape              Param #   \n",
            "=================================================================\n",
            " conv2d (Conv2D)             (None, 48, 48, 64)        1792      \n",
            "                                                                 \n",
            " batch_normalization (Batch  (None, 48, 48, 64)        256       \n",
            " Normalization)                                                  \n",
            "                                                                 \n",
            " activation (Activation)     (None, 48, 48, 64)        0         \n",
            "                                                                 \n",
            " max_pooling2d (MaxPooling2  (None, 24, 24, 64)        0         \n",
            " D)                                                              \n",
            "                                                                 \n",
            " dropout (Dropout)           (None, 24, 24, 64)        0         \n",
            "                                                                 \n",
            " conv2d_1 (Conv2D)           (None, 24, 24, 128)       204928    \n",
            "                                                                 \n",
            " batch_normalization_1 (Bat  (None, 24, 24, 128)       512       \n",
            " chNormalization)                                                \n",
            "                                                                 \n",
            " activation_1 (Activation)   (None, 24, 24, 128)       0         \n",
            "                                                                 \n",
            " max_pooling2d_1 (MaxPoolin  (None, 12, 12, 128)       0         \n",
            " g2D)                                                            \n",
            "                                                                 \n",
            " dropout_1 (Dropout)         (None, 12, 12, 128)       0         \n",
            "                                                                 \n",
            " conv2d_2 (Conv2D)           (None, 12, 12, 512)       590336    \n",
            "                                                                 \n",
            " batch_normalization_2 (Bat  (None, 12, 12, 512)       2048      \n",
            " chNormalization)                                                \n",
            "                                                                 \n",
            " activation_2 (Activation)   (None, 12, 12, 512)       0         \n",
            "                                                                 \n",
            " max_pooling2d_2 (MaxPoolin  (None, 6, 6, 512)         0         \n",
            " g2D)                                                            \n",
            "                                                                 \n",
            " dropout_2 (Dropout)         (None, 6, 6, 512)         0         \n",
            "                                                                 \n",
            " flatten (Flatten)           (None, 18432)             0         \n",
            "                                                                 \n",
            " dense (Dense)               (None, 256)               4718848   \n",
            "                                                                 \n",
            " batch_normalization_3 (Bat  (None, 256)               1024      \n",
            " chNormalization)                                                \n",
            "                                                                 \n",
            " activation_3 (Activation)   (None, 256)               0         \n",
            "                                                                 \n",
            " dropout_3 (Dropout)         (None, 256)               0         \n",
            "                                                                 \n",
            " dense_1 (Dense)             (None, 512)               131584    \n",
            "                                                                 \n",
            " batch_normalization_4 (Bat  (None, 512)               2048      \n",
            " chNormalization)                                                \n",
            "                                                                 \n",
            " activation_4 (Activation)   (None, 512)               0         \n",
            "                                                                 \n",
            " dropout_4 (Dropout)         (None, 512)               0         \n",
            "                                                                 \n",
            " dense_2 (Dense)             (None, 7)                 3591      \n",
            "                                                                 \n",
            "=================================================================\n",
            "Total params: 5656967 (21.58 MB)\n",
            "Trainable params: 5654023 (21.57 MB)\n",
            "Non-trainable params: 2944 (11.50 KB)\n",
            "_________________________________________________________________\n"
          ]
        }
      ],
      "source": [
        "no_of_classes = 7\n",
        "\n",
        "model = Sequential()\n",
        "\n",
        "# 1st CNN layer\n",
        "model.add(Conv2D(64, (3, 3), padding='same', input_shape=(48, 48, 3)))  # Mindre antal filter\n",
        "model.add(BatchNormalization())\n",
        "model.add(Activation('relu'))\n",
        "model.add(MaxPooling2D(pool_size = (2, 2)))\n",
        "model.add(Dropout(0.3))\n",
        "\n",
        "# 2nd CNN layer\n",
        "model.add(Conv2D(128,(5, 5), padding = 'same'))\n",
        "model.add(BatchNormalization())\n",
        "model.add(Activation('relu'))\n",
        "model.add(MaxPooling2D(pool_size = (2, 2)))\n",
        "model.add(Dropout(0.3))\n",
        "\n",
        "# 3rd CNN layer\n",
        "model.add(Conv2D(512,(3, 3), padding = 'same'))\n",
        "model.add(BatchNormalization())\n",
        "model.add(Activation('relu'))\n",
        "model.add(MaxPooling2D(pool_size = (2, 2)))\n",
        "model.add(Dropout(0.3))\n",
        "\n",
        "model.add(Flatten())\n",
        "# Ändring: Global Average Pooling istället för Flatten\n",
        "# model.add(GlobalAveragePooling2D())\n",
        "\n",
        "# Fully connected 1st layer\n",
        "model.add(Dense(256))\n",
        "model.add(BatchNormalization())\n",
        "model.add(Activation('relu'))\n",
        "model.add(Dropout(0.3))\n",
        "\n",
        "# Fully connected 2nd layer\n",
        "model.add(Dense(512))\n",
        "model.add(BatchNormalization())\n",
        "model.add(Activation('relu'))\n",
        "model.add(Dropout(0.3))\n",
        "\n",
        "model.add(Dense(no_of_classes, activation='softmax'))\n",
        "\n",
        "# opt = Adam(lr = 0.00005) # Ändring från 0.0001\n",
        "# Ändring till RMSprop\n",
        "opt = RMSprop(lr=0.0001)\n",
        "model.compile(optimizer=opt, loss='categorical_crossentropy', metrics=['accuracy'])\n",
        "\n",
        "model.summary()\n"
      ]
    },
    {
      "cell_type": "markdown",
      "metadata": {
        "id": "UaiM4syjVdYa"
      },
      "source": [
        "## Fitting the model"
      ]
    },
    {
      "cell_type": "code",
      "execution_count": null,
      "metadata": {
        "id": "Godx3ND5VgXk"
      },
      "outputs": [],
      "source": [
        "checkpoint = ModelCheckpoint(\"./model.h5\", monitor=\"val_accuracy\", verbose=1, save_best_only=True, mode='max')\n",
        "\n",
        "early_stopping = EarlyStopping(monitor='val_loss',\n",
        "                               min_delta=0,\n",
        "                               patience=5,\n",
        "                               verbose=1,\n",
        "                               restore_best_weights=True)\n",
        "\n",
        "reduce_learningrate= ReduceLROnPlateau(monitor='val_loss',\n",
        "                                         factor=0.2,\n",
        "                                         patience=3,\n",
        "                                         verbose=1,\n",
        "                                         min_delta=0.0001)\n",
        "\n",
        "callbacks_list= (early_stopping, checkpoint, reduce_learningrate)\n",
        "\n",
        "epochs = 48"
      ]
    },
    {
      "cell_type": "code",
      "execution_count": null,
      "metadata": {
        "colab": {
          "base_uri": "https://localhost:8080/"
        },
        "id": "JZNSLnpuXxh1",
        "outputId": "258b21ba-550e-41d8-ea1f-1e0f218ce89b"
      },
      "outputs": [
        {
          "output_type": "stream",
          "name": "stdout",
          "text": [
            "Epoch 1/48\n"
          ]
        },
        {
          "output_type": "stream",
          "name": "stderr",
          "text": [
            "<ipython-input-23-2ab7b2a9fee0>:1: UserWarning: `Model.fit_generator` is deprecated and will be removed in a future version. Please use `Model.fit`, which supports generators.\n",
            "  history = model.fit_generator(generator=train_set,\n"
          ]
        },
        {
          "output_type": "stream",
          "name": "stdout",
          "text": [
            "225/225 [==============================] - ETA: 0s - loss: 1.7246 - accuracy: 0.3539\n",
            "Epoch 1: val_accuracy improved from -inf to 0.14844, saving model to ./model.h5\n",
            "225/225 [==============================] - 26s 74ms/step - loss: 1.7246 - accuracy: 0.3539 - val_loss: 1.8800 - val_accuracy: 0.1484 - lr: 0.0010\n",
            "Epoch 2/48\n"
          ]
        },
        {
          "output_type": "stream",
          "name": "stderr",
          "text": [
            "/usr/local/lib/python3.10/dist-packages/keras/src/engine/training.py:3103: UserWarning: You are saving your model as an HDF5 file via `model.save()`. This file format is considered legacy. We recommend using instead the native Keras format, e.g. `model.save('my_model.keras')`.\n",
            "  saving_api.save_model(\n"
          ]
        },
        {
          "output_type": "stream",
          "name": "stdout",
          "text": [
            "225/225 [==============================] - ETA: 0s - loss: 1.3950 - accuracy: 0.4677\n",
            "Epoch 2: val_accuracy improved from 0.14844 to 0.43764, saving model to ./model.h5\n",
            "225/225 [==============================] - 15s 69ms/step - loss: 1.3950 - accuracy: 0.4677 - val_loss: 1.4651 - val_accuracy: 0.4376 - lr: 0.0010\n",
            "Epoch 3/48\n",
            "225/225 [==============================] - ETA: 0s - loss: 1.2626 - accuracy: 0.5178\n",
            "Epoch 3: val_accuracy improved from 0.43764 to 0.51889, saving model to ./model.h5\n",
            "225/225 [==============================] - 16s 69ms/step - loss: 1.2626 - accuracy: 0.5178 - val_loss: 1.2636 - val_accuracy: 0.5189 - lr: 0.0010\n",
            "Epoch 4/48\n",
            "225/225 [==============================] - ETA: 0s - loss: 1.1850 - accuracy: 0.5506\n",
            "Epoch 4: val_accuracy improved from 0.51889 to 0.52969, saving model to ./model.h5\n",
            "225/225 [==============================] - 16s 71ms/step - loss: 1.1850 - accuracy: 0.5506 - val_loss: 1.2393 - val_accuracy: 0.5297 - lr: 0.0010\n",
            "Epoch 5/48\n",
            "225/225 [==============================] - ETA: 0s - loss: 1.1126 - accuracy: 0.5800\n",
            "Epoch 5: val_accuracy improved from 0.52969 to 0.54815, saving model to ./model.h5\n",
            "225/225 [==============================] - 15s 68ms/step - loss: 1.1126 - accuracy: 0.5800 - val_loss: 1.1934 - val_accuracy: 0.5482 - lr: 0.0010\n",
            "Epoch 6/48\n",
            "225/225 [==============================] - ETA: 0s - loss: 1.0600 - accuracy: 0.5975\n",
            "Epoch 6: val_accuracy improved from 0.54815 to 0.55426, saving model to ./model.h5\n",
            "225/225 [==============================] - 16s 69ms/step - loss: 1.0600 - accuracy: 0.5975 - val_loss: 1.1762 - val_accuracy: 0.5543 - lr: 0.0010\n",
            "Epoch 7/48\n",
            "225/225 [==============================] - ETA: 0s - loss: 1.0080 - accuracy: 0.6178\n",
            "Epoch 7: val_accuracy did not improve from 0.55426\n",
            "225/225 [==============================] - 15s 67ms/step - loss: 1.0080 - accuracy: 0.6178 - val_loss: 1.2210 - val_accuracy: 0.5533 - lr: 0.0010\n",
            "Epoch 8/48\n",
            "225/225 [==============================] - ETA: 0s - loss: 0.9620 - accuracy: 0.6365\n",
            "Epoch 8: val_accuracy improved from 0.55426 to 0.58750, saving model to ./model.h5\n",
            "225/225 [==============================] - 16s 70ms/step - loss: 0.9620 - accuracy: 0.6365 - val_loss: 1.1394 - val_accuracy: 0.5875 - lr: 0.0010\n",
            "Epoch 9/48\n",
            "225/225 [==============================] - ETA: 0s - loss: 0.9209 - accuracy: 0.6548\n",
            "Epoch 9: val_accuracy improved from 0.58750 to 0.59560, saving model to ./model.h5\n",
            "225/225 [==============================] - 16s 71ms/step - loss: 0.9209 - accuracy: 0.6548 - val_loss: 1.1351 - val_accuracy: 0.5956 - lr: 0.0010\n",
            "Epoch 10/48\n",
            "225/225 [==============================] - ETA: 0s - loss: 0.8817 - accuracy: 0.6709\n",
            "Epoch 10: val_accuracy did not improve from 0.59560\n",
            "225/225 [==============================] - 15s 68ms/step - loss: 0.8817 - accuracy: 0.6709 - val_loss: 1.1758 - val_accuracy: 0.5857 - lr: 0.0010\n",
            "Epoch 11/48\n",
            "225/225 [==============================] - ETA: 0s - loss: 0.8439 - accuracy: 0.6824\n",
            "Epoch 11: val_accuracy did not improve from 0.59560\n",
            "225/225 [==============================] - 15s 68ms/step - loss: 0.8439 - accuracy: 0.6824 - val_loss: 1.1939 - val_accuracy: 0.5773 - lr: 0.0010\n",
            "Epoch 12/48\n",
            "225/225 [==============================] - ETA: 0s - loss: 0.7891 - accuracy: 0.7054\n",
            "Epoch 12: val_accuracy did not improve from 0.59560\n",
            "\n",
            "Epoch 12: ReduceLROnPlateau reducing learning rate to 0.00020000000949949026.\n",
            "225/225 [==============================] - 16s 70ms/step - loss: 0.7891 - accuracy: 0.7054 - val_loss: 1.1489 - val_accuracy: 0.5928 - lr: 0.0010\n",
            "Epoch 13/48\n",
            "225/225 [==============================] - ETA: 0s - loss: 0.6745 - accuracy: 0.7516\n",
            "Epoch 13: val_accuracy improved from 0.59560 to 0.62955, saving model to ./model.h5\n",
            "225/225 [==============================] - 18s 82ms/step - loss: 0.6745 - accuracy: 0.7516 - val_loss: 1.0371 - val_accuracy: 0.6295 - lr: 2.0000e-04\n",
            "Epoch 14/48\n",
            "225/225 [==============================] - ETA: 0s - loss: 0.6299 - accuracy: 0.7669\n",
            "Epoch 14: val_accuracy did not improve from 0.62955\n",
            "225/225 [==============================] - 15s 68ms/step - loss: 0.6299 - accuracy: 0.7669 - val_loss: 1.0705 - val_accuracy: 0.6271 - lr: 2.0000e-04\n",
            "Epoch 15/48\n",
            "225/225 [==============================] - ETA: 0s - loss: 0.6063 - accuracy: 0.7770\n",
            "Epoch 15: val_accuracy did not improve from 0.62955\n",
            "225/225 [==============================] - 16s 69ms/step - loss: 0.6063 - accuracy: 0.7770 - val_loss: 1.1034 - val_accuracy: 0.6270 - lr: 2.0000e-04\n",
            "Epoch 16/48\n",
            "225/225 [==============================] - ETA: 0s - loss: 0.5877 - accuracy: 0.7818\n",
            "Epoch 16: val_accuracy improved from 0.62955 to 0.63366, saving model to ./model.h5\n",
            "\n",
            "Epoch 16: ReduceLROnPlateau reducing learning rate to 4.0000001899898055e-05.\n",
            "225/225 [==============================] - 16s 70ms/step - loss: 0.5877 - accuracy: 0.7818 - val_loss: 1.0861 - val_accuracy: 0.6337 - lr: 2.0000e-04\n",
            "Epoch 17/48\n",
            "225/225 [==============================] - ETA: 0s - loss: 0.5532 - accuracy: 0.7952\n",
            "Epoch 17: val_accuracy improved from 0.63366 to 0.63864, saving model to ./model.h5\n",
            "225/225 [==============================] - 16s 70ms/step - loss: 0.5532 - accuracy: 0.7952 - val_loss: 1.0668 - val_accuracy: 0.6386 - lr: 4.0000e-05\n",
            "Epoch 18/48\n",
            "225/225 [==============================] - ETA: 0s - loss: 0.5450 - accuracy: 0.7971Restoring model weights from the end of the best epoch: 13.\n",
            "\n",
            "Epoch 18: val_accuracy improved from 0.63864 to 0.64006, saving model to ./model.h5\n",
            "225/225 [==============================] - 16s 69ms/step - loss: 0.5450 - accuracy: 0.7971 - val_loss: 1.0661 - val_accuracy: 0.6401 - lr: 4.0000e-05\n",
            "Epoch 18: early stopping\n"
          ]
        }
      ],
      "source": [
        "history = model.fit_generator(generator=train_set,\n",
        "                              steps_per_epoch=train_set.n//train_set.batch_size,\n",
        "                              epochs=epochs,\n",
        "                              validation_data=test_set,\n",
        "                              validation_steps=test_set.n//test_set.batch_size,\n",
        "                              callbacks=callbacks_list\n",
        "                              )"
      ]
    },
    {
      "cell_type": "markdown",
      "metadata": {
        "id": "pFQ45sSD_wb6"
      },
      "source": [
        "\n",
        "\n",
        "\n",
        "\n",
        "## Resultat med original parametrar, 1000 bilder i train, (1000*0.2) i validation:\n",
        "Epoch 7: ReduceLROnPlateau reducing learning rate to 0.00020000000949949026.\n",
        "49/49 [==============================] - 222s 5s/step - loss: 1.1903 - accuracy: 0.5529 - val_loss: 1.8034 - val_accuracy: 0.3863 - lr: 0.0010\n",
        "Epoch 7: early stopping"
      ]
    },
    {
      "cell_type": "markdown",
      "source": [
        "# SLUTLIGT RESULTAT FACE MODEL\n",
        "Epoch 18: val_accuracy improved from 0.63864 to 0.64006, saving model to ./model.h5\n",
        "225/225 [==============================] - 16s 69ms/step - loss: 0.5450 - accuracy: 0.7971 - val_loss: 1.0661 - val_accuracy: 0.6401 - lr: 4.0000e-05\n",
        "Epoch 18: early stopping"
      ],
      "metadata": {
        "id": "HGU73z4VhYAV"
      }
    },
    {
      "cell_type": "markdown",
      "metadata": {
        "id": "m3afeT0bWzgn"
      },
      "source": [
        "# Plotting accuracy and loss"
      ]
    },
    {
      "cell_type": "code",
      "execution_count": null,
      "metadata": {
        "colab": {
          "base_uri": "https://localhost:8080/",
          "height": 626
        },
        "id": "GXyFys7WYuoy",
        "outputId": "6a03fd6d-4a8c-444f-ee6d-892511ea9719"
      },
      "outputs": [
        {
          "output_type": "display_data",
          "data": {
            "text/plain": [
              "<Figure size 2000x1000 with 2 Axes>"
            ],
            "image/png": "[encoded data removed]"
          },
          "metadata": {}
        }
      ],
      "source": [
        "plt.style.use(\"dark_background\")\n",
        "\n",
        "plt.figure(figsize=(20,10))\n",
        "plt.subplot(1, 2, 1)\n",
        "plt.suptitle('Optimizer: RMSprop(lr=0.0001)', fontsize=10)\n",
        "plt.ylabel('Loss', fontsize=16)\n",
        "plt.plot(history.history['loss'], label='Training Loss')\n",
        "plt.plot(history.history['val_loss'], label='Validation Loss')\n",
        "plt.legend(loc='upper right')\n",
        "plt.subplot(1, 2, 2)\n",
        "plt.ylabel('Accuracy', fontsize=16)\n",
        "plt.plot(history.history['accuracy'], label='Training Accuracy')\n",
        "plt.plot(history.history['val_accuracy'], label='Validation Accuracy')\n",
        "plt.legend(loc='lower right')\n",
        "plt.show()"
      ]
    },
    {
      "cell_type": "code",
      "execution_count": null,
      "metadata": {
        "id": "jH4UxHSpZ8V3"
      },
      "outputs": [],
      "source": []
    },
    {
      "cell_type": "markdown",
      "source": [
        "# PART 2 - DEVELOPMENT - Hand model"
      ],
      "metadata": {
        "id": "BfdpjJQq6bn9"
      }
    },
    {
      "cell_type": "code",
      "source": [
        "import matplotlib.pyplot as plt\n",
        "import numpy as numpy\n",
        "import pandas as pd\n",
        "import seaborn as sns\n",
        "import os\n",
        "\n",
        "# Importing Deep Learning Libraries\n",
        "\n",
        "from keras.preprocessing.image import load_img, img_to_array\n",
        "from keras.preprocessing.image import ImageDataGenerator\n",
        "from keras.layers import Dense, Input, Dropout, GlobalAveragePooling2D, Flatten, Conv2D, BatchNormalization, Activation, MaxPooling2D\n",
        "from keras.models import Model, Sequential\n",
        "from keras.optimizers import Adam, SGD, RMSprop\n",
        "\n",
        "from google.colab import files\n",
        "\n",
        "# Making and copying a smaller subset\n",
        "import random\n",
        "import shutil\n",
        "\n",
        "# Fitting the model\n",
        "from keras.callbacks import ModelCheckpoint, EarlyStopping, ReduceLROnPlateau"
      ],
      "metadata": {
        "id": "NdZGuqo0T10T"
      },
      "execution_count": 3,
      "outputs": []
    },
    {
      "cell_type": "code",
      "execution_count": 4,
      "metadata": {
        "colab": {
          "base_uri": "https://localhost:8080/",
          "height": 91
        },
        "outputId": "0082519b-a920-441b-ffb6-f1095d612a40",
        "id": "ceRjzKjZ6z3E"
      },
      "outputs": [
        {
          "output_type": "display_data",
          "data": {
            "text/plain": [
              "<IPython.core.display.HTML object>"
            ],
            "text/html": [
              "\n",
              "     <input type=\"file\" id=\"files-5c8b5628-c9d9-42bf-945b-d24b6a7c0023\" name=\"files[]\" multiple disabled\n",
              "        style=\"border:none\" />\n",
              "     <output id=\"result-5c8b5628-c9d9-42bf-945b-d24b6a7c0023\">\n",
              "      Upload widget is only available when the cell has been executed in the\n",
              "      current browser session. Please rerun this cell to enable.\n",
              "      </output>\n",
              "      <script>// Copyright 2017 Google LLC\n",
              "//\n",
              "// Licensed under the Apache License, Version 2.0 (the \"License\");\n",
              "// you may not use this file except in compliance with the License.\n",
              "// You may obtain a copy of the License at\n",
              "//\n",
              "//      http://www.apache.org/licenses/LICENSE-2.0\n",
              "//\n",
              "// Unless required by applicable law or agreed to in writing, software\n",
              "// distributed under the License is distributed on an \"AS IS\" BASIS,\n",
              "// WITHOUT WARRANTIES OR CONDITIONS OF ANY KIND, either express or implied.\n",
              "// See the License for the specific language governing permissions and\n",
              "// limitations under the License.\n",
              "\n",
              "/**\n",
              " * @fileoverview Helpers for google.colab Python module.\n",
              " */\n",
              "(function(scope) {\n",
              "function span(text, styleAttributes = {}) {\n",
              "  const element = document.createElement('span');\n",
              "  element.textContent = text;\n",
              "  for (const key of Object.keys(styleAttributes)) {\n",
              "    element.style[key] = styleAttributes[key];\n",
              "  }\n",
              "  return element;\n",
              "}\n",
              "\n",
              "// Max number of bytes which will be uploaded at a time.\n",
              "const MAX_PAYLOAD_SIZE = 100 * 1024;\n",
              "\n",
              "function _uploadFiles(inputId, outputId) {\n",
              "  const steps = uploadFilesStep(inputId, outputId);\n",
              "  const outputElement = document.getElementById(outputId);\n",
              "  // Cache steps on the outputElement to make it available for the next call\n",
              "  // to uploadFilesContinue from Python.\n",
              "  outputElement.steps = steps;\n",
              "\n",
              "  return _uploadFilesContinue(outputId);\n",
              "}\n",
              "\n",
              "// This is roughly an async generator (not supported in the browser yet),\n",
              "// where there are multiple asynchronous steps and the Python side is going\n",
              "// to poll for completion of each step.\n",
              "// This uses a Promise to block the python side on completion of each step,\n",
              "// then passes the result of the previous step as the input to the next step.\n",
              "function _uploadFilesContinue(outputId) {\n",
              "  const outputElement = document.getElementById(outputId);\n",
              "  const steps = outputElement.steps;\n",
              "\n",
              "  const next = steps.next(outputElement.lastPromiseValue);\n",
              "  return Promise.resolve(next.value.promise).then((value) => {\n",
              "    // Cache the last promise value to make it available to the next\n",
              "    // step of the generator.\n",
              "    outputElement.lastPromiseValue = value;\n",
              "    return next.value.response;\n",
              "  });\n",
              "}\n",
              "\n",
              "/**\n",
              " * Generator function which is called between each async step of the upload\n",
              " * process.\n",
              " * @param {string} inputId Element ID of the input file picker element.\n",
              " * @param {string} outputId Element ID of the output display.\n",
              " * @return {!Iterable<!Object>} Iterable of next steps.\n",
              " */\n",
              "function* uploadFilesStep(inputId, outputId) {\n",
              "  const inputElement = document.getElementById(inputId);\n",
              "  inputElement.disabled = false;\n",
              "\n",
              "  const outputElement = document.getElementById(outputId);\n",
              "  outputElement.innerHTML = '';\n",
              "\n",
              "  const pickedPromise = new Promise((resolve) => {\n",
              "    inputElement.addEventListener('change', (e) => {\n",
              "      resolve(e.target.files);\n",
              "    });\n",
              "  });\n",
              "\n",
              "  const cancel = document.createElement('button');\n",
              "  inputElement.parentElement.appendChild(cancel);\n",
              "  cancel.textContent = 'Cancel upload';\n",
              "  const cancelPromise = new Promise((resolve) => {\n",
              "    cancel.onclick = () => {\n",
              "      resolve(null);\n",
              "    };\n",
              "  });\n",
              "\n",
              "  // Wait for the user to pick the files.\n",
              "  const files = yield {\n",
              "    promise: Promise.race([pickedPromise, cancelPromise]),\n",
              "    response: {\n",
              "      action: 'starting',\n",
              "    }\n",
              "  };\n",
              "\n",
              "  cancel.remove();\n",
              "\n",
              "  // Disable the input element since further picks are not allowed.\n",
              "  inputElement.disabled = true;\n",
              "\n",
              "  if (!files) {\n",
              "    return {\n",
              "      response: {\n",
              "        action: 'complete',\n",
              "      }\n",
              "    };\n",
              "  }\n",
              "\n",
              "  for (const file of files) {\n",
              "    const li = document.createElement('li');\n",
              "    li.append(span(file.name, {fontWeight: 'bold'}));\n",
              "    li.append(span(\n",
              "        `(${file.type || 'n/a'}) - ${file.size} bytes, ` +\n",
              "        `last modified: ${\n",
              "            file.lastModifiedDate ? file.lastModifiedDate.toLocaleDateString() :\n",
              "                                    'n/a'} - `));\n",
              "    const percent = span('0% done');\n",
              "    li.appendChild(percent);\n",
              "\n",
              "    outputElement.appendChild(li);\n",
              "\n",
              "    const fileDataPromise = new Promise((resolve) => {\n",
              "      const reader = new FileReader();\n",
              "      reader.onload = (e) => {\n",
              "        resolve(e.target.result);\n",
              "      };\n",
              "      reader.readAsArrayBuffer(file);\n",
              "    });\n",
              "    // Wait for the data to be ready.\n",
              "    let fileData = yield {\n",
              "      promise: fileDataPromise,\n",
              "      response: {\n",
              "        action: 'continue',\n",
              "      }\n",
              "    };\n",
              "\n",
              "    // Use a chunked sending to avoid message size limits. See b/62115660.\n",
              "    let position = 0;\n",
              "    do {\n",
              "      const length = Math.min(fileData.byteLength - position, MAX_PAYLOAD_SIZE);\n",
              "      const chunk = new Uint8Array(fileData, position, length);\n",
              "      position += length;\n",
              "\n",
              "      const base64 = btoa(String.fromCharCode.apply(null, chunk));\n",
              "      yield {\n",
              "        response: {\n",
              "          action: 'append',\n",
              "          file: file.name,\n",
              "          data: base64,\n",
              "        },\n",
              "      };\n",
              "\n",
              "      let percentDone = fileData.byteLength === 0 ?\n",
              "          100 :\n",
              "          Math.round((position / fileData.byteLength) * 100);\n",
              "      percent.textContent = `${percentDone}% done`;\n",
              "\n",
              "    } while (position < fileData.byteLength);\n",
              "  }\n",
              "\n",
              "  // All done.\n",
              "  yield {\n",
              "    response: {\n",
              "      action: 'complete',\n",
              "    }\n",
              "  };\n",
              "}\n",
              "\n",
              "scope.google = scope.google || {};\n",
              "scope.google.colab = scope.google.colab || {};\n",
              "scope.google.colab._files = {\n",
              "  _uploadFiles,\n",
              "  _uploadFilesContinue,\n",
              "};\n",
              "})(self);\n",
              "</script> "
            ]
          },
          "metadata": {}
        },
        {
          "output_type": "stream",
          "name": "stdout",
          "text": [
            "Saving kaggle.json to kaggle.json\n"
          ]
        },
        {
          "output_type": "execute_result",
          "data": {
            "text/plain": [
              "{'kaggle.json': b'{\"username\":\"linneabackgard\",\"key\":\"5acdeea07fec7c3b430898b0aec38aac\"}'}"
            ]
          },
          "metadata": {},
          "execution_count": 4
        }
      ],
      "source": [
        "files.upload()"
      ]
    },
    {
      "cell_type": "code",
      "execution_count": 5,
      "metadata": {
        "id": "5r6V0UY76z3G"
      },
      "outputs": [],
      "source": [
        "!mkdir ~/.kaggle\n",
        "!cp kaggle.json ~/.kaggle/\n",
        "!chmod 600 ~/.kaggle/kaggle.json"
      ]
    },
    {
      "cell_type": "code",
      "execution_count": null,
      "metadata": {
        "id": "zMXBw-Xx6z3H"
      },
      "outputs": [],
      "source": [
        "# Download the Sign Language MNIST Dataset\n",
        "!kaggle datasets download -d datamunge/sign-language-mnist\n",
        "\n",
        "# Unzip the Dataset\n",
        "!unzip sign-language-mnist.zip\n"
      ]
    },
    {
      "cell_type": "code",
      "execution_count": null,
      "metadata": {
        "colab": {
          "base_uri": "https://localhost:8080/"
        },
        "outputId": "961228c7-034d-4184-ff43-4ef6cea61526",
        "id": "8w4L__vS8LeH"
      },
      "outputs": [
        {
          "output_type": "stream",
          "name": "stdout",
          "text": [
            "american_sign_language.PNG  kaggle.json\t\t     sign_mnist_test\t  sign_mnist_train.csv\n",
            "amer_sign2.png\t\t    sample_data\t\t     sign_mnist_test.csv\n",
            "amer_sign3.png\t\t    sign-language-mnist.zip  sign_mnist_train\n"
          ]
        }
      ],
      "source": [
        "!ls\n"
      ]
    },
    {
      "cell_type": "code",
      "execution_count": 7,
      "metadata": {
        "colab": {
          "base_uri": "https://localhost:8080/"
        },
        "outputId": "a710c697-9f7f-40e1-a41e-2871c8ffa2bf",
        "id": "gDE0aeBs8LeK"
      },
      "outputs": [
        {
          "output_type": "stream",
          "name": "stdout",
          "text": [
            "/content\n"
          ]
        }
      ],
      "source": [
        "%cd /content\n"
      ]
    },
    {
      "cell_type": "code",
      "execution_count": 8,
      "metadata": {
        "colab": {
          "base_uri": "https://localhost:8080/"
        },
        "outputId": "fe310c47-f75a-4660-f4ef-c0849b7cf381",
        "id": "cIYSoIw78LeL"
      },
      "outputs": [
        {
          "output_type": "stream",
          "name": "stdout",
          "text": [
            "american_sign_language.PNG  kaggle.json\t\t     sign_mnist_test\t  sign_mnist_train.csv\n",
            "amer_sign2.png\t\t    sample_data\t\t     sign_mnist_test.csv\n",
            "amer_sign3.png\t\t    sign-language-mnist.zip  sign_mnist_train\n"
          ]
        }
      ],
      "source": [
        "\n",
        "!ls\n"
      ]
    },
    {
      "cell_type": "code",
      "execution_count": 9,
      "metadata": {
        "colab": {
          "base_uri": "https://localhost:8080/"
        },
        "outputId": "d7f4348e-fabe-47ed-a26f-7e5a49e6122c",
        "id": "GRS0RsqH8LeM"
      },
      "outputs": [
        {
          "output_type": "stream",
          "name": "stdout",
          "text": [
            "sign_mnist_test.csv\n"
          ]
        }
      ],
      "source": [
        "!ls sign_mnist_test.csv\n"
      ]
    },
    {
      "cell_type": "markdown",
      "source": [
        "# Load and split\n",
        "- Splitting features and labels\n",
        "- Splitting train into train and validation"
      ],
      "metadata": {
        "id": "ipTtkkS5Daw0"
      }
    },
    {
      "cell_type": "code",
      "source": [
        "import pandas as pd\n",
        "import numpy as np\n",
        "from sklearn.model_selection import train_test_split\n",
        "from tensorflow.keras.utils import to_categorical\n",
        "\n",
        "# Load datasets\n",
        "train = pd.read_csv('./sign_mnist_train.csv')\n",
        "test = pd.read_csv('./sign_mnist_test.csv')\n",
        "\n",
        "# Split features and labels\n",
        "train_labels = train['label']\n",
        "train_images = train.drop('label', axis=1)\n",
        "test_labels = test['label']\n",
        "test_images = test.drop('label', axis=1)\n",
        "\n",
        "# Split the training data into train and validation sets\n",
        "train_images, val_images, train_labels, val_labels = train_test_split(\n",
        "    train_images, train_labels, test_size=0.2, random_state=42\n",
        ")\n",
        "\n",
        "# Waiting to convert to categorical (one hot encoding) to after plotting, and normalizing."
      ],
      "metadata": {
        "id": "e35mg6Y_Bsvc"
      },
      "execution_count": 10,
      "outputs": []
    },
    {
      "cell_type": "markdown",
      "source": [
        "# EDA"
      ],
      "metadata": {
        "id": "QQ20KHyEG1j0"
      }
    },
    {
      "cell_type": "code",
      "source": [
        "train.head()"
      ],
      "metadata": {
        "colab": {
          "base_uri": "https://localhost:8080/",
          "height": 255
        },
        "id": "32Afp_ixCJ8u",
        "outputId": "018cf43a-e178-4a87-8a76-a1dacfcd1280"
      },
      "execution_count": 11,
      "outputs": [
        {
          "output_type": "execute_result",
          "data": {
            "text/plain": [
              "   label  pixel1  pixel2  pixel3  pixel4  pixel5  pixel6  pixel7  pixel8  \\\n",
              "0      3     107     118     127     134     139     143     146     150   \n",
              "1      6     155     157     156     156     156     157     156     158   \n",
              "2      2     187     188     188     187     187     186     187     188   \n",
              "3      2     211     211     212     212     211     210     211     210   \n",
              "4     13     164     167     170     172     176     179     180     184   \n",
              "\n",
              "   pixel9  ...  pixel775  pixel776  pixel777  pixel778  pixel779  pixel780  \\\n",
              "0     153  ...       207       207       207       207       206       206   \n",
              "1     158  ...        69       149       128        87        94       163   \n",
              "2     187  ...       202       201       200       199       198       199   \n",
              "3     210  ...       235       234       233       231       230       226   \n",
              "4     185  ...        92       105       105       108       133       163   \n",
              "\n",
              "   pixel781  pixel782  pixel783  pixel784  \n",
              "0       206       204       203       202  \n",
              "1       175       103       135       149  \n",
              "2       198       195       194       195  \n",
              "3       225       222       229       163  \n",
              "4       157       163       164       179  \n",
              "\n",
              "[5 rows x 785 columns]"
            ],
            "text/html": [
              "\n",
              "  <div id=\"df-0b5daef7-802d-4a8c-b7ac-743f3bf58838\" class=\"colab-df-container\">\n",
              "    <div>\n",
              "<style scoped>\n",
              "    .dataframe tbody tr th:only-of-type {\n",
              "        vertical-align: middle;\n",
              "    }\n",
              "\n",
              "    .dataframe tbody tr th {\n",
              "        vertical-align: top;\n",
              "    }\n",
              "\n",
              "    .dataframe thead th {\n",
              "        text-align: right;\n",
              "    }\n",
              "</style>\n",
              "<table border=\"1\" class=\"dataframe\">\n",
              "  <thead>\n",
              "    <tr style=\"text-align: right;\">\n",
              "      <th></th>\n",
              "      <th>label</th>\n",
              "      <th>pixel1</th>\n",
              "      <th>pixel2</th>\n",
              "      <th>pixel3</th>\n",
              "      <th>pixel4</th>\n",
              "      <th>pixel5</th>\n",
              "      <th>pixel6</th>\n",
              "      <th>pixel7</th>\n",
              "      <th>pixel8</th>\n",
              "      <th>pixel9</th>\n",
              "      <th>...</th>\n",
              "      <th>pixel775</th>\n",
              "      <th>pixel776</th>\n",
              "      <th>pixel777</th>\n",
              "      <th>pixel778</th>\n",
              "      <th>pixel779</th>\n",
              "      <th>pixel780</th>\n",
              "      <th>pixel781</th>\n",
              "      <th>pixel782</th>\n",
              "      <th>pixel783</th>\n",
              "      <th>pixel784</th>\n",
              "    </tr>\n",
              "  </thead>\n",
              "  <tbody>\n",
              "    <tr>\n",
              "      <th>0</th>\n",
              "      <td>3</td>\n",
              "      <td>107</td>\n",
              "      <td>118</td>\n",
              "      <td>127</td>\n",
              "      <td>134</td>\n",
              "      <td>139</td>\n",
              "      <td>143</td>\n",
              "      <td>146</td>\n",
              "      <td>150</td>\n",
              "      <td>153</td>\n",
              "      <td>...</td>\n",
              "      <td>207</td>\n",
              "      <td>207</td>\n",
              "      <td>207</td>\n",
              "      <td>207</td>\n",
              "      <td>206</td>\n",
              "      <td>206</td>\n",
              "      <td>206</td>\n",
              "      <td>204</td>\n",
              "      <td>203</td>\n",
              "      <td>202</td>\n",
              "    </tr>\n",
              "    <tr>\n",
              "      <th>1</th>\n",
              "      <td>6</td>\n",
              "      <td>155</td>\n",
              "      <td>157</td>\n",
              "      <td>156</td>\n",
              "      <td>156</td>\n",
              "      <td>156</td>\n",
              "      <td>157</td>\n",
              "      <td>156</td>\n",
              "      <td>158</td>\n",
              "      <td>158</td>\n",
              "      <td>...</td>\n",
              "      <td>69</td>\n",
              "      <td>149</td>\n",
              "      <td>128</td>\n",
              "      <td>87</td>\n",
              "      <td>94</td>\n",
              "      <td>163</td>\n",
              "      <td>175</td>\n",
              "      <td>103</td>\n",
              "      <td>135</td>\n",
              "      <td>149</td>\n",
              "    </tr>\n",
              "    <tr>\n",
              "      <th>2</th>\n",
              "      <td>2</td>\n",
              "      <td>187</td>\n",
              "      <td>188</td>\n",
              "      <td>188</td>\n",
              "      <td>187</td>\n",
              "      <td>187</td>\n",
              "      <td>186</td>\n",
              "      <td>187</td>\n",
              "      <td>188</td>\n",
              "      <td>187</td>\n",
              "      <td>...</td>\n",
              "      <td>202</td>\n",
              "      <td>201</td>\n",
              "      <td>200</td>\n",
              "      <td>199</td>\n",
              "      <td>198</td>\n",
              "      <td>199</td>\n",
              "      <td>198</td>\n",
              "      <td>195</td>\n",
              "      <td>194</td>\n",
              "      <td>195</td>\n",
              "    </tr>\n",
              "    <tr>\n",
              "      <th>3</th>\n",
              "      <td>2</td>\n",
              "      <td>211</td>\n",
              "      <td>211</td>\n",
              "      <td>212</td>\n",
              "      <td>212</td>\n",
              "      <td>211</td>\n",
              "      <td>210</td>\n",
              "      <td>211</td>\n",
              "      <td>210</td>\n",
              "      <td>210</td>\n",
              "      <td>...</td>\n",
              "      <td>235</td>\n",
              "      <td>234</td>\n",
              "      <td>233</td>\n",
              "      <td>231</td>\n",
              "      <td>230</td>\n",
              "      <td>226</td>\n",
              "      <td>225</td>\n",
              "      <td>222</td>\n",
              "      <td>229</td>\n",
              "      <td>163</td>\n",
              "    </tr>\n",
              "    <tr>\n",
              "      <th>4</th>\n",
              "      <td>13</td>\n",
              "      <td>164</td>\n",
              "      <td>167</td>\n",
              "      <td>170</td>\n",
              "      <td>172</td>\n",
              "      <td>176</td>\n",
              "      <td>179</td>\n",
              "      <td>180</td>\n",
              "      <td>184</td>\n",
              "      <td>185</td>\n",
              "      <td>...</td>\n",
              "      <td>92</td>\n",
              "      <td>105</td>\n",
              "      <td>105</td>\n",
              "      <td>108</td>\n",
              "      <td>133</td>\n",
              "      <td>163</td>\n",
              "      <td>157</td>\n",
              "      <td>163</td>\n",
              "      <td>164</td>\n",
              "      <td>179</td>\n",
              "    </tr>\n",
              "  </tbody>\n",
              "</table>\n",
              "<p>5 rows × 785 columns</p>\n",
              "</div>\n",
              "    <div class=\"colab-df-buttons\">\n",
              "\n",
              "  <div class=\"colab-df-container\">\n",
              "    <button class=\"colab-df-convert\" onclick=\"convertToInteractive('df-0b5daef7-802d-4a8c-b7ac-743f3bf58838')\"\n",
              "            title=\"Convert this dataframe to an interactive table.\"\n",
              "            style=\"display:none;\">\n",
              "\n",
              "  <svg xmlns=\"http://www.w3.org/2000/svg\" height=\"24px\" viewBox=\"0 -960 960 960\">\n",
              "    <path d=\"M120-120v-720h720v720H120Zm60-500h600v-160H180v160Zm220 220h160v-160H400v160Zm0 220h160v-160H400v160ZM180-400h160v-160H180v160Zm440 0h160v-160H620v160ZM180-180h160v-160H180v160Zm440 0h160v-160H620v160Z\"/>\n",
              "  </svg>\n",
              "    </button>\n",
              "\n",
              "  <style>\n",
              "    .colab-df-container {\n",
              "      display:flex;\n",
              "      gap: 12px;\n",
              "    }\n",
              "\n",
              "    .colab-df-convert {\n",
              "      background-color: #E8F0FE;\n",
              "      border: none;\n",
              "      border-radius: 50%;\n",
              "      cursor: pointer;\n",
              "      display: none;\n",
              "      fill: #1967D2;\n",
              "      height: 32px;\n",
              "      padding: 0 0 0 0;\n",
              "      width: 32px;\n",
              "    }\n",
              "\n",
              "    .colab-df-convert:hover {\n",
              "      background-color: #E2EBFA;\n",
              "      box-shadow: 0px 1px 2px rgba(60, 64, 67, 0.3), 0px 1px 3px 1px rgba(60, 64, 67, 0.15);\n",
              "      fill: #174EA6;\n",
              "    }\n",
              "\n",
              "    .colab-df-buttons div {\n",
              "      margin-bottom: 4px;\n",
              "    }\n",
              "\n",
              "    [theme=dark] .colab-df-convert {\n",
              "      background-color: #3B4455;\n",
              "      fill: #D2E3FC;\n",
              "    }\n",
              "\n",
              "    [theme=dark] .colab-df-convert:hover {\n",
              "      background-color: #434B5C;\n",
              "      box-shadow: 0px 1px 3px 1px rgba(0, 0, 0, 0.15);\n",
              "      filter: drop-shadow(0px 1px 2px rgba(0, 0, 0, 0.3));\n",
              "      fill: #FFFFFF;\n",
              "    }\n",
              "  </style>\n",
              "\n",
              "    <script>\n",
              "      const buttonEl =\n",
              "        document.querySelector('#df-0b5daef7-802d-4a8c-b7ac-743f3bf58838 button.colab-df-convert');\n",
              "      buttonEl.style.display =\n",
              "        google.colab.kernel.accessAllowed ? 'block' : 'none';\n",
              "\n",
              "      async function convertToInteractive(key) {\n",
              "        const element = document.querySelector('#df-0b5daef7-802d-4a8c-b7ac-743f3bf58838');\n",
              "        const dataTable =\n",
              "          await google.colab.kernel.invokeFunction('convertToInteractive',\n",
              "                                                    [key], {});\n",
              "        if (!dataTable) return;\n",
              "\n",
              "        const docLinkHtml = 'Like what you see? Visit the ' +\n",
              "          '<a target=\"_blank\" href=https://colab.research.google.com/notebooks/data_table.ipynb>data table notebook</a>'\n",
              "          + ' to learn more about interactive tables.';\n",
              "        element.innerHTML = '';\n",
              "        dataTable['output_type'] = 'display_data';\n",
              "        await google.colab.output.renderOutput(dataTable, element);\n",
              "        const docLink = document.createElement('div');\n",
              "        docLink.innerHTML = docLinkHtml;\n",
              "        element.appendChild(docLink);\n",
              "      }\n",
              "    </script>\n",
              "  </div>\n",
              "\n",
              "\n",
              "<div id=\"df-1e17395f-1570-42d3-b925-dd9e7f3327ec\">\n",
              "  <button class=\"colab-df-quickchart\" onclick=\"quickchart('df-1e17395f-1570-42d3-b925-dd9e7f3327ec')\"\n",
              "            title=\"Suggest charts\"\n",
              "            style=\"display:none;\">\n",
              "\n",
              "<svg xmlns=\"http://www.w3.org/2000/svg\" height=\"24px\"viewBox=\"0 0 24 24\"\n",
              "     width=\"24px\">\n",
              "    <g>\n",
              "        <path d=\"M19 3H5c-1.1 0-2 .9-2 2v14c0 1.1.9 2 2 2h14c1.1 0 2-.9 2-2V5c0-1.1-.9-2-2-2zM9 17H7v-7h2v7zm4 0h-2V7h2v10zm4 0h-2v-4h2v4z\"/>\n",
              "    </g>\n",
              "</svg>\n",
              "  </button>\n",
              "\n",
              "<style>\n",
              "  .colab-df-quickchart {\n",
              "      --bg-color: #E8F0FE;\n",
              "      --fill-color: #1967D2;\n",
              "      --hover-bg-color: #E2EBFA;\n",
              "      --hover-fill-color: #174EA6;\n",
              "      --disabled-fill-color: #AAA;\n",
              "      --disabled-bg-color: #DDD;\n",
              "  }\n",
              "\n",
              "  [theme=dark] .colab-df-quickchart {\n",
              "      --bg-color: #3B4455;\n",
              "      --fill-color: #D2E3FC;\n",
              "      --hover-bg-color: #434B5C;\n",
              "      --hover-fill-color: #FFFFFF;\n",
              "      --disabled-bg-color: #3B4455;\n",
              "      --disabled-fill-color: #666;\n",
              "  }\n",
              "\n",
              "  .colab-df-quickchart {\n",
              "    background-color: var(--bg-color);\n",
              "    border: none;\n",
              "    border-radius: 50%;\n",
              "    cursor: pointer;\n",
              "    display: none;\n",
              "    fill: var(--fill-color);\n",
              "    height: 32px;\n",
              "    padding: 0;\n",
              "    width: 32px;\n",
              "  }\n",
              "\n",
              "  .colab-df-quickchart:hover {\n",
              "    background-color: var(--hover-bg-color);\n",
              "    box-shadow: 0 1px 2px rgba(60, 64, 67, 0.3), 0 1px 3px 1px rgba(60, 64, 67, 0.15);\n",
              "    fill: var(--button-hover-fill-color);\n",
              "  }\n",
              "\n",
              "  .colab-df-quickchart-complete:disabled,\n",
              "  .colab-df-quickchart-complete:disabled:hover {\n",
              "    background-color: var(--disabled-bg-color);\n",
              "    fill: var(--disabled-fill-color);\n",
              "    box-shadow: none;\n",
              "  }\n",
              "\n",
              "  .colab-df-spinner {\n",
              "    border: 2px solid var(--fill-color);\n",
              "    border-color: transparent;\n",
              "    border-bottom-color: var(--fill-color);\n",
              "    animation:\n",
              "      spin 1s steps(1) infinite;\n",
              "  }\n",
              "\n",
              "  @keyframes spin {\n",
              "    0% {\n",
              "      border-color: transparent;\n",
              "      border-bottom-color: var(--fill-color);\n",
              "      border-left-color: var(--fill-color);\n",
              "    }\n",
              "    20% {\n",
              "      border-color: transparent;\n",
              "      border-left-color: var(--fill-color);\n",
              "      border-top-color: var(--fill-color);\n",
              "    }\n",
              "    30% {\n",
              "      border-color: transparent;\n",
              "      border-left-color: var(--fill-color);\n",
              "      border-top-color: var(--fill-color);\n",
              "      border-right-color: var(--fill-color);\n",
              "    }\n",
              "    40% {\n",
              "      border-color: transparent;\n",
              "      border-right-color: var(--fill-color);\n",
              "      border-top-color: var(--fill-color);\n",
              "    }\n",
              "    60% {\n",
              "      border-color: transparent;\n",
              "      border-right-color: var(--fill-color);\n",
              "    }\n",
              "    80% {\n",
              "      border-color: transparent;\n",
              "      border-right-color: var(--fill-color);\n",
              "      border-bottom-color: var(--fill-color);\n",
              "    }\n",
              "    90% {\n",
              "      border-color: transparent;\n",
              "      border-bottom-color: var(--fill-color);\n",
              "    }\n",
              "  }\n",
              "</style>\n",
              "\n",
              "  <script>\n",
              "    async function quickchart(key) {\n",
              "      const quickchartButtonEl =\n",
              "        document.querySelector('#' + key + ' button');\n",
              "      quickchartButtonEl.disabled = true;  // To prevent multiple clicks.\n",
              "      quickchartButtonEl.classList.add('colab-df-spinner');\n",
              "      try {\n",
              "        const charts = await google.colab.kernel.invokeFunction(\n",
              "            'suggestCharts', [key], {});\n",
              "      } catch (error) {\n",
              "        console.error('Error during call to suggestCharts:', error);\n",
              "      }\n",
              "      quickchartButtonEl.classList.remove('colab-df-spinner');\n",
              "      quickchartButtonEl.classList.add('colab-df-quickchart-complete');\n",
              "    }\n",
              "    (() => {\n",
              "      let quickchartButtonEl =\n",
              "        document.querySelector('#df-1e17395f-1570-42d3-b925-dd9e7f3327ec button');\n",
              "      quickchartButtonEl.style.display =\n",
              "        google.colab.kernel.accessAllowed ? 'block' : 'none';\n",
              "    })();\n",
              "  </script>\n",
              "</div>\n",
              "    </div>\n",
              "  </div>\n"
            ]
          },
          "metadata": {},
          "execution_count": 11
        }
      ]
    },
    {
      "cell_type": "code",
      "source": [
        "train.columns"
      ],
      "metadata": {
        "colab": {
          "base_uri": "https://localhost:8080/"
        },
        "id": "cmuGH-gLFnyk",
        "outputId": "3191b400-1646-4cfc-b13b-946e367c6074"
      },
      "execution_count": 12,
      "outputs": [
        {
          "output_type": "execute_result",
          "data": {
            "text/plain": [
              "Index(['label', 'pixel1', 'pixel2', 'pixel3', 'pixel4', 'pixel5', 'pixel6',\n",
              "       'pixel7', 'pixel8', 'pixel9',\n",
              "       ...\n",
              "       'pixel775', 'pixel776', 'pixel777', 'pixel778', 'pixel779', 'pixel780',\n",
              "       'pixel781', 'pixel782', 'pixel783', 'pixel784'],\n",
              "      dtype='object', length=785)"
            ]
          },
          "metadata": {},
          "execution_count": 12
        }
      ]
    },
    {
      "cell_type": "code",
      "source": [
        "train.info()"
      ],
      "metadata": {
        "colab": {
          "base_uri": "https://localhost:8080/"
        },
        "id": "FwRrEqEMFuds",
        "outputId": "f5740ec2-957c-4d4e-b547-ce2d6379e980"
      },
      "execution_count": 13,
      "outputs": [
        {
          "output_type": "stream",
          "name": "stdout",
          "text": [
            "<class 'pandas.core.frame.DataFrame'>\n",
            "RangeIndex: 27455 entries, 0 to 27454\n",
            "Columns: 785 entries, label to pixel784\n",
            "dtypes: int64(785)\n",
            "memory usage: 164.4 MB\n"
          ]
        }
      ]
    },
    {
      "cell_type": "code",
      "source": [
        "train.shape"
      ],
      "metadata": {
        "colab": {
          "base_uri": "https://localhost:8080/"
        },
        "id": "xlc37FB6FyMm",
        "outputId": "f0acbf5a-a90f-4fed-f709-a523c2257e80"
      },
      "execution_count": 14,
      "outputs": [
        {
          "output_type": "execute_result",
          "data": {
            "text/plain": [
              "(27455, 785)"
            ]
          },
          "metadata": {},
          "execution_count": 14
        }
      ]
    },
    {
      "cell_type": "code",
      "source": [
        "unique_classes = len(np.unique(train_labels))  # Use original_train_labels before one-hot encoding\n",
        "print(\"Number of unique classes:\", unique_classes)\n"
      ],
      "metadata": {
        "colab": {
          "base_uri": "https://localhost:8080/"
        },
        "id": "yiy9TvgpG7wp",
        "outputId": "2f42629c-1ce8-4365-9af8-e47cddb8b516"
      },
      "execution_count": 15,
      "outputs": [
        {
          "output_type": "stream",
          "name": "stdout",
          "text": [
            "Number of unique classes: 24\n"
          ]
        }
      ]
    },
    {
      "cell_type": "markdown",
      "source": [
        "# Datasetet är lite obalanserat med den mest frekventa labeln som har 1033 st och den minst frekventa som har 755 st. Det är en skillnad av 278 st. Det finns tillräckligt antal i alla för att vara relevant och skillnaden är inte så stor så det borde vara acceptabelt, men kan visa sig i att modellen blir lite bättre på att känna igen de som finns fler antal av."
      ],
      "metadata": {
        "id": "PYCtRW_PJCVZ"
      }
    },
    {
      "cell_type": "code",
      "source": [
        "import pandas as pd\n",
        "import matplotlib.pyplot as plt\n",
        "\n",
        "# Assuming train_labels is already defined\n",
        "# Count the occurrences of each label\n",
        "label_counts = train_labels.value_counts()\n",
        "\n",
        "# Calculate the percentage of each label\n",
        "label_percentages = label_counts / len(train_labels) * 100\n",
        "\n",
        "# Create a DataFrame for the counts and percentages\n",
        "label_distribution = pd.DataFrame({'Counts': label_counts, 'Percentage': label_percentages})\n",
        "\n",
        "# Display the label distribution\n",
        "print(label_distribution)\n",
        "\n",
        "# Plotting\n",
        "plt.figure(figsize=(15, 6))\n",
        "\n",
        "# Plot for the raw counts\n",
        "plt.subplot(1, 2, 1)\n",
        "label_counts.plot(kind='bar')\n",
        "plt.title('Distribution of Labels in the Training Set (Counts)')\n",
        "plt.xlabel('Label')\n",
        "plt.ylabel('Counts')\n",
        "\n",
        "# Plot for the percentages\n",
        "plt.subplot(1, 2, 2)\n",
        "label_percentages.plot(kind='bar')\n",
        "plt.title('Distribution of Labels in the Training Set (Percentage)')\n",
        "plt.xlabel('Label')\n",
        "plt.ylabel('Percentage (%)')\n",
        "\n",
        "plt.tight_layout()\n",
        "plt.show()\n"
      ],
      "metadata": {
        "colab": {
          "base_uri": "https://localhost:8080/",
          "height": 909
        },
        "id": "CM7Va4JAHgyL",
        "outputId": "c04a41d7-ebb6-4341-bfad-ce736e2d72dd"
      },
      "execution_count": 16,
      "outputs": [
        {
          "output_type": "stream",
          "name": "stdout",
          "text": [
            "    Counts  Percentage\n",
            "17    1033    4.703151\n",
            "16     988    4.498270\n",
            "14     977    4.448188\n",
            "11     973    4.429976\n",
            "22     971    4.420871\n",
            "5      962    4.379894\n",
            "19     956    4.352577\n",
            "8      943    4.293389\n",
            "13     942    4.288836\n",
            "3      940    4.279730\n",
            "23     934    4.252413\n",
            "20     934    4.252413\n",
            "18     928    4.225096\n",
            "2      924    4.206884\n",
            "24     911    4.147696\n",
            "0      905    4.120379\n",
            "10     895    4.074850\n",
            "15     886    4.033874\n",
            "21     885    4.029321\n",
            "6      869    3.956474\n",
            "12     823    3.747041\n",
            "1      822    3.742488\n",
            "7      808    3.678747\n",
            "4      755    3.437443\n"
          ]
        },
        {
          "output_type": "display_data",
          "data": {
            "text/plain": [
              "<Figure size 1500x600 with 2 Axes>"
            ],
            "image/png": "[encoded data removed]"
          },
          "metadata": {}
        }
      ]
    },
    {
      "cell_type": "code",
      "source": [
        "1033-755"
      ],
      "metadata": {
        "colab": {
          "base_uri": "https://localhost:8080/"
        },
        "id": "0CElJyCBH233",
        "outputId": "99742133-a2d9-484b-ebf6-8a7507c41569"
      },
      "execution_count": null,
      "outputs": [
        {
          "output_type": "execute_result",
          "data": {
            "text/plain": [
              "278"
            ]
          },
          "metadata": {},
          "execution_count": 19
        }
      ]
    },
    {
      "cell_type": "code",
      "source": [],
      "metadata": {
        "id": "9I_7H7yHJTI6"
      },
      "execution_count": null,
      "outputs": []
    },
    {
      "cell_type": "markdown",
      "source": [
        "# Preprocessing\n",
        "- Normalizing\n",
        "- Converting the images to categorical (one hot encoding)"
      ],
      "metadata": {
        "id": "OLCaif_SFaFJ"
      }
    },
    {
      "cell_type": "markdown",
      "source": [
        "The IndexError you're encountering occurs because there is still a label index of '24' in your dataset, which is out of bounds for a size of 24 classes (0 through 23). It seems that the label '9' (corresponding to the letter \"J\") is missing from the dataset, but the other labels are not shifted to fill this gap."
      ],
      "metadata": {
        "id": "QMIRF_MYMTyN"
      }
    },
    {
      "cell_type": "code",
      "source": [
        "\n",
        "# Normalize and reshape the image data\n",
        "train_images = np.array(train_images).reshape(-1, 28, 28, 1) / 255.0\n",
        "val_images = np.array(val_images).reshape(-1, 28, 28, 1) / 255.0\n",
        "test_images = np.array(test_images).reshape(-1, 28, 28, 1) / 255.0\n"
      ],
      "metadata": {
        "id": "UxYlMySLFhve"
      },
      "execution_count": 17,
      "outputs": []
    },
    {
      "cell_type": "code",
      "source": [
        "num_classes = unique_classes\n",
        "\n",
        "# Shift down labels greater than 9 by 1\n",
        "train_labels_adj = np.where(train_labels > 9, train_labels - 1, train_labels)\n",
        "val_labels_adj = np.where(val_labels > 9, val_labels - 1, val_labels)\n",
        "test_labels_adj = np.where(test_labels > 9, test_labels - 1, test_labels)\n",
        "\n",
        "# Verify the range of adjusted labels\n",
        "print(\"Adjusted label range:\", np.unique(train_labels_adj))\n",
        "\n",
        "# Convert labels to categorical\n",
        "train_labels_cat = to_categorical(train_labels_adj, num_classes)\n",
        "val_labels_cat = to_categorical(val_labels_adj, num_classes)\n",
        "test_labels_cat = to_categorical(test_labels_adj, num_classes)\n",
        "\n",
        "# Check the shapes again\n",
        "print(\"Shape of train_labels_cat:\", train_labels_cat.shape)\n",
        "print(\"Shape of val_labels_cat:\", val_labels_cat.shape)\n",
        "print(\"Shape of test_labels_cat:\", test_labels_cat.shape)\n"
      ],
      "metadata": {
        "colab": {
          "base_uri": "https://localhost:8080/"
        },
        "id": "zNqe2NZUMgkI",
        "outputId": "84123d03-981d-4c45-ba31-338d31c469fd"
      },
      "execution_count": 18,
      "outputs": [
        {
          "output_type": "stream",
          "name": "stdout",
          "text": [
            "Adjusted label range: [ 0  1  2  3  4  5  6  7  8  9 10 11 12 13 14 15 16 17 18 19 20 21 22 23]\n",
            "Shape of train_labels_cat: (21964, 24)\n",
            "Shape of val_labels_cat: (5491, 24)\n",
            "Shape of test_labels_cat: (7172, 24)\n"
          ]
        }
      ]
    },
    {
      "cell_type": "markdown",
      "source": [],
      "metadata": {
        "id": "cARWAxDDHusg"
      }
    },
    {
      "cell_type": "markdown",
      "source": [
        "# Augmentation and defining model"
      ],
      "metadata": {
        "id": "gpYJJxEdF1Xx"
      }
    },
    {
      "cell_type": "code",
      "source": [
        "from keras.models import Sequential\n",
        "from keras.layers import Conv2D, MaxPooling2D, Flatten, Dense, Dropout, BatchNormalization\n",
        "from keras.optimizers import RMSprop\n",
        "from keras.preprocessing.image import ImageDataGenerator\n",
        "import tensorflow as tf\n",
        "\n",
        "# Clear the TensorFlow session\n",
        "tf.keras.backend.clear_session()"
      ],
      "metadata": {
        "id": "5ejtxn2zelFo"
      },
      "execution_count": 3,
      "outputs": []
    },
    {
      "cell_type": "markdown",
      "source": [
        "# First augmentation\n"
      ],
      "metadata": {
        "id": "r_3ujlA-eOs5"
      }
    },
    {
      "cell_type": "code",
      "source": [
        "# Create ImageDataGenerator for data augmentation\n",
        "datagen = ImageDataGenerator(\n",
        "    rotation_range=10,\n",
        "    width_shift_range=0.1,\n",
        "    height_shift_range=0.1,\n",
        "    shear_range=0.1,\n",
        "    zoom_range=0.1,\n",
        "    horizontal_flip=True\n",
        ")\n",
        "\n",
        "\n",
        "# Apply datagen to training data\n",
        "datagen.fit(train_images)"
      ],
      "metadata": {
        "id": "G6AJdzg0efeL"
      },
      "execution_count": null,
      "outputs": []
    },
    {
      "cell_type": "code",
      "source": [],
      "metadata": {
        "id": "Uouwq9nnhOXX"
      },
      "execution_count": null,
      "outputs": []
    },
    {
      "cell_type": "markdown",
      "source": [
        "# First hand model"
      ],
      "metadata": {
        "id": "4F63ghCtdkin"
      }
    },
    {
      "cell_type": "code",
      "source": [
        "\n",
        "\n",
        "# Define the model\n",
        "model = Sequential([\n",
        "    Conv2D(32, (3, 3), padding='same', activation='relu', input_shape=(28, 28, 1)),\n",
        "    MaxPooling2D((2, 2)),\n",
        "    Conv2D(64, (3, 3), padding='same', activation='relu'),\n",
        "    MaxPooling2D((2, 2)),\n",
        "    Conv2D(128, (3, 3), padding='same', activation='relu'),\n",
        "    Flatten(),\n",
        "    Dense(128, activation='relu'),\n",
        "    Dropout(0.5),\n",
        "    Dense(24, activation='softmax')\n",
        "])\n",
        "\n",
        "print(\"Shape of train_labels:\", train_labels.shape)\n",
        "print(\"Shape of val_labels:\", val_labels.shape)\n",
        "\n",
        "\n",
        "# Compile the model\n",
        "model.compile(optimizer=RMSprop(lr=0.001), loss='categorical_crossentropy', metrics=['accuracy'])\n",
        "model.summary()\n"
      ],
      "metadata": {
        "colab": {
          "base_uri": "https://localhost:8080/"
        },
        "id": "IHADTJnMFilD",
        "outputId": "628acd47-0e3f-454e-e8ae-bb7ca82a47ae"
      },
      "execution_count": null,
      "outputs": [
        {
          "output_type": "stream",
          "name": "stderr",
          "text": [
            "WARNING:absl:`lr` is deprecated in Keras optimizer, please use `learning_rate` or use the legacy optimizer, e.g.,tf.keras.optimizers.legacy.RMSprop.\n"
          ]
        },
        {
          "output_type": "stream",
          "name": "stdout",
          "text": [
            "Shape of train_labels: (21964,)\n",
            "Shape of val_labels: (5491,)\n",
            "Model: \"sequential\"\n",
            "_________________________________________________________________\n",
            " Layer (type)                Output Shape              Param #   \n",
            "=================================================================\n",
            " conv2d (Conv2D)             (None, 28, 28, 32)        320       \n",
            "                                                                 \n",
            " max_pooling2d (MaxPooling2  (None, 14, 14, 32)        0         \n",
            " D)                                                              \n",
            "                                                                 \n",
            " conv2d_1 (Conv2D)           (None, 14, 14, 64)        18496     \n",
            "                                                                 \n",
            " max_pooling2d_1 (MaxPoolin  (None, 7, 7, 64)          0         \n",
            " g2D)                                                            \n",
            "                                                                 \n",
            " conv2d_2 (Conv2D)           (None, 7, 7, 128)         73856     \n",
            "                                                                 \n",
            " flatten (Flatten)           (None, 6272)              0         \n",
            "                                                                 \n",
            " dense (Dense)               (None, 128)               802944    \n",
            "                                                                 \n",
            " dropout (Dropout)           (None, 128)               0         \n",
            "                                                                 \n",
            " dense_1 (Dense)             (None, 24)                3096      \n",
            "                                                                 \n",
            "=================================================================\n",
            "Total params: 898712 (3.43 MB)\n",
            "Trainable params: 898712 (3.43 MB)\n",
            "Non-trainable params: 0 (0.00 Byte)\n",
            "_________________________________________________________________\n"
          ]
        }
      ]
    },
    {
      "cell_type": "markdown",
      "source": [],
      "metadata": {
        "id": "1Mckv840eL6p"
      }
    },
    {
      "cell_type": "markdown",
      "source": [],
      "metadata": {
        "id": "uGmJBnt0dfpd"
      }
    },
    {
      "cell_type": "markdown",
      "source": [
        "# Callbacks"
      ],
      "metadata": {
        "id": "MI05PGpOGF1a"
      }
    },
    {
      "cell_type": "code",
      "source": [
        "from keras.callbacks import ModelCheckpoint, EarlyStopping, ReduceLROnPlateau\n",
        "\n",
        "# ModelCheckpoint to save the best model\n",
        "checkpoint = ModelCheckpoint(\"sign_language_model.h5\", monitor='val_accuracy', save_best_only=True, verbose=1)\n",
        "\n",
        "# EarlyStopping to stop training when the validation loss has not improved\n",
        "early_stopping = EarlyStopping(monitor='val_loss', patience=5, restore_best_weights=True, verbose=1)\n",
        "\n",
        "# ReduceLROnPlateau to reduce learning rate when a metric has stopped improving\n",
        "reduce_lr = ReduceLROnPlateau(monitor='val_loss', factor=0.2, patience=3, min_lr=0.0001, verbose=1)\n",
        "\n",
        "callbacks = [checkpoint, early_stopping, reduce_lr]\n"
      ],
      "metadata": {
        "id": "DpNHRiKFGAHD"
      },
      "execution_count": null,
      "outputs": []
    },
    {
      "cell_type": "markdown",
      "source": [
        "# Train the model"
      ],
      "metadata": {
        "id": "W8GcJElIGMsq"
      }
    },
    {
      "cell_type": "code",
      "source": [
        "# Train the model with data augmentation\n",
        "history = model.fit(\n",
        "    datagen.flow(train_images, train_labels_cat, batch_size=32),  # Use train_labels_cat\n",
        "    epochs=20,\n",
        "    validation_data=(val_images, val_labels_cat),  # Use val_labels_cat\n",
        "    callbacks=callbacks\n",
        ")\n",
        "\n"
      ],
      "metadata": {
        "colab": {
          "base_uri": "https://localhost:8080/"
        },
        "id": "-42zvcRhGH7s",
        "outputId": "5239a44c-85e5-4c8b-d890-87339c2f21a2"
      },
      "execution_count": null,
      "outputs": [
        {
          "output_type": "stream",
          "name": "stdout",
          "text": [
            "Epoch 1/20\n",
            "687/687 [==============================] - ETA: 0s - loss: 3.1773 - accuracy: 0.0446\n",
            "Epoch 1: val_accuracy improved from -inf to 0.04753, saving model to sign_language_model.h5\n",
            "687/687 [==============================] - 13s 16ms/step - loss: 3.1773 - accuracy: 0.0446 - val_loss: 3.1777 - val_accuracy: 0.0475 - lr: 0.0010\n",
            "Epoch 2/20\n",
            "  4/687 [..............................] - ETA: 17s - loss: 3.1746 - accuracy: 0.0547"
          ]
        },
        {
          "output_type": "stream",
          "name": "stderr",
          "text": [
            "/usr/local/lib/python3.10/dist-packages/keras/src/engine/training.py:3103: UserWarning: You are saving your model as an HDF5 file via `model.save()`. This file format is considered legacy. We recommend using instead the native Keras format, e.g. `model.save('my_model.keras')`.\n",
            "  saving_api.save_model(\n"
          ]
        },
        {
          "output_type": "stream",
          "name": "stdout",
          "text": [
            "687/687 [==============================] - ETA: 0s - loss: 3.1763 - accuracy: 0.0466\n",
            "Epoch 2: val_accuracy did not improve from 0.04753\n",
            "687/687 [==============================] - 11s 15ms/step - loss: 3.1763 - accuracy: 0.0466 - val_loss: 3.1788 - val_accuracy: 0.0475 - lr: 0.0010\n",
            "Epoch 3/20\n",
            "686/687 [============================>.] - ETA: 0s - loss: 3.1763 - accuracy: 0.0470\n",
            "Epoch 3: val_accuracy did not improve from 0.04753\n",
            "687/687 [==============================] - 13s 19ms/step - loss: 3.1763 - accuracy: 0.0470 - val_loss: 3.1792 - val_accuracy: 0.0475 - lr: 0.0010\n",
            "Epoch 4/20\n",
            "686/687 [============================>.] - ETA: 0s - loss: 3.1761 - accuracy: 0.0466\n",
            "Epoch 4: val_accuracy did not improve from 0.04753\n",
            "\n",
            "Epoch 4: ReduceLROnPlateau reducing learning rate to 0.00020000000949949026.\n",
            "687/687 [==============================] - 12s 18ms/step - loss: 3.1761 - accuracy: 0.0466 - val_loss: 3.1795 - val_accuracy: 0.0475 - lr: 0.0010\n",
            "Epoch 5/20\n",
            "685/687 [============================>.] - ETA: 0s - loss: 3.1758 - accuracy: 0.0471\n",
            "Epoch 5: val_accuracy did not improve from 0.04753\n",
            "687/687 [==============================] - 11s 16ms/step - loss: 3.1758 - accuracy: 0.0470 - val_loss: 3.1796 - val_accuracy: 0.0475 - lr: 2.0000e-04\n",
            "Epoch 6/20\n",
            "686/687 [============================>.] - ETA: 0s - loss: 3.1757 - accuracy: 0.0470\n",
            "Epoch 6: val_accuracy did not improve from 0.04753\n",
            "Restoring model weights from the end of the best epoch: 1.\n",
            "687/687 [==============================] - 16s 23ms/step - loss: 3.1757 - accuracy: 0.0470 - val_loss: 3.1798 - val_accuracy: 0.0475 - lr: 2.0000e-04\n",
            "Epoch 6: early stopping\n"
          ]
        }
      ]
    },
    {
      "cell_type": "code",
      "source": [
        "plt.style.use(\"dark_background\")\n",
        "\n",
        "plt.figure(figsize=(20,10))\n",
        "plt.subplot(1, 2, 1)\n",
        "plt.suptitle('Optimizer: RMSprop(lr=0.0001)', fontsize=10)\n",
        "plt.ylabel('Loss', fontsize=16)\n",
        "plt.plot(history.history['loss'], label='Training Loss')\n",
        "plt.plot(history.history['val_loss'], label='Validation Loss')\n",
        "plt.legend(loc='upper right')\n",
        "plt.subplot(1, 2, 2)\n",
        "plt.ylabel('Accuracy', fontsize=16)\n",
        "plt.plot(history.history['accuracy'], label='Training Accuracy')\n",
        "plt.plot(history.history['val_accuracy'], label='Validation Accuracy')\n",
        "plt.legend(loc='lower right')\n",
        "plt.show()"
      ],
      "metadata": {
        "id": "AX0yGqAzGQss"
      },
      "execution_count": null,
      "outputs": []
    },
    {
      "cell_type": "markdown",
      "source": [
        "# Second hand model - all - code from notebook in kaggle\n",
        "https://www.kaggle.com/code/okandeniz/sign-language-mnist-with-cnn"
      ],
      "metadata": {
        "id": "k2ztKWMagSbq"
      }
    },
    {
      "cell_type": "code",
      "source": [
        "train.shape"
      ],
      "metadata": {
        "colab": {
          "base_uri": "https://localhost:8080/"
        },
        "id": "6fTKO5uqZTpq",
        "outputId": "3c2d11ba-ee16-406f-fe2f-5ba648233e9d"
      },
      "execution_count": 20,
      "outputs": [
        {
          "output_type": "execute_result",
          "data": {
            "text/plain": [
              "(27455, 785)"
            ]
          },
          "metadata": {},
          "execution_count": 20
        }
      ]
    },
    {
      "cell_type": "code",
      "source": [
        "# Load datasets\n",
        "train = pd.read_csv('./sign_mnist_train.csv')\n",
        "test = pd.read_csv('./sign_mnist_test.csv')"
      ],
      "metadata": {
        "colab": {
          "base_uri": "https://localhost:8080/",
          "height": 219
        },
        "id": "ysumUZbiZmtA",
        "outputId": "eed56502-2687-44af-f723-7e76904ff3d3"
      },
      "execution_count": 1,
      "outputs": [
        {
          "output_type": "error",
          "ename": "NameError",
          "evalue": "ignored",
          "traceback": [
            "\u001b[0;31m---------------------------------------------------------------------------\u001b[0m",
            "\u001b[0;31mNameError\u001b[0m                                 Traceback (most recent call last)",
            "\u001b[0;32m<ipython-input-1-59549f7f4b41>\u001b[0m in \u001b[0;36m<cell line: 2>\u001b[0;34m()\u001b[0m\n\u001b[1;32m      1\u001b[0m \u001b[0;31m# Load datasets\u001b[0m\u001b[0;34m\u001b[0m\u001b[0;34m\u001b[0m\u001b[0m\n\u001b[0;32m----> 2\u001b[0;31m \u001b[0mtrain\u001b[0m \u001b[0;34m=\u001b[0m \u001b[0mpd\u001b[0m\u001b[0;34m.\u001b[0m\u001b[0mread_csv\u001b[0m\u001b[0;34m(\u001b[0m\u001b[0;34m'./sign_mnist_train.csv'\u001b[0m\u001b[0;34m)\u001b[0m\u001b[0;34m\u001b[0m\u001b[0;34m\u001b[0m\u001b[0m\n\u001b[0m\u001b[1;32m      3\u001b[0m \u001b[0mtest\u001b[0m \u001b[0;34m=\u001b[0m \u001b[0mpd\u001b[0m\u001b[0;34m.\u001b[0m\u001b[0mread_csv\u001b[0m\u001b[0;34m(\u001b[0m\u001b[0;34m'./sign_mnist_test.csv'\u001b[0m\u001b[0;34m)\u001b[0m\u001b[0;34m\u001b[0m\u001b[0;34m\u001b[0m\u001b[0m\n",
            "\u001b[0;31mNameError\u001b[0m: name 'pd' is not defined"
          ]
        }
      ]
    },
    {
      "cell_type": "code",
      "source": [
        "train.shape"
      ],
      "metadata": {
        "colab": {
          "base_uri": "https://localhost:8080/"
        },
        "id": "i-AvVrVZZpat",
        "outputId": "a6ec0d31-a062-4c38-b398-87af6572b86b"
      },
      "execution_count": 23,
      "outputs": [
        {
          "output_type": "execute_result",
          "data": {
            "text/plain": [
              "(27455, 785)"
            ]
          },
          "metadata": {},
          "execution_count": 23
        }
      ]
    },
    {
      "cell_type": "code",
      "source": [
        "Y_train=train[\"label\"]\n",
        "Y_test=test[\"label\"]\n",
        "X_train=train.drop(labels=[\"label\"],axis=1)\n",
        "X_test=test.drop(labels=[\"label\"],axis=1)"
      ],
      "metadata": {
        "id": "OGqS5g9MgU-a"
      },
      "execution_count": 24,
      "outputs": []
    },
    {
      "cell_type": "code",
      "source": [
        "# visiual number of Sign Language classes\n",
        "plt.figure(figsize=(15,7))\n",
        "\n",
        "Y_train.value_counts().sort_values(ascending=False).plot(kind=\"bar\")\n",
        "plt.title(\"Number of sign language classes\")\n",
        "plt.show()\n",
        "\n",
        "Y_train.value_counts().sort_values(ascending=False)"
      ],
      "metadata": {
        "colab": {
          "base_uri": "https://localhost:8080/",
          "height": 1000
        },
        "id": "AXDRSaGkgV1h",
        "outputId": "880a3a9c-a4d1-41d3-d28a-17b7d594f639"
      },
      "execution_count": 25,
      "outputs": [
        {
          "output_type": "display_data",
          "data": {
            "text/plain": [
              "<Figure size 1500x700 with 1 Axes>"
            ],
            "image/png": "[encoded data removed]"
          },
          "metadata": {}
        },
        {
          "output_type": "execute_result",
          "data": {
            "text/plain": [
              "17    1294\n",
              "16    1279\n",
              "11    1241\n",
              "22    1225\n",
              "5     1204\n",
              "18    1199\n",
              "3     1196\n",
              "14    1196\n",
              "19    1186\n",
              "23    1164\n",
              "8     1162\n",
              "20    1161\n",
              "13    1151\n",
              "2     1144\n",
              "0     1126\n",
              "24    1118\n",
              "10    1114\n",
              "6     1090\n",
              "15    1088\n",
              "21    1082\n",
              "12    1055\n",
              "7     1013\n",
              "1     1010\n",
              "4      957\n",
              "Name: label, dtype: int64"
            ]
          },
          "metadata": {},
          "execution_count": 25
        }
      ]
    },
    {
      "cell_type": "code",
      "source": [
        "# plot some samples\n",
        "f, ax=plt.subplots(2,4)\n",
        "f.set_size_inches(8,8)\n",
        "\n",
        "k=0\n",
        "for i in range(2):\n",
        "    for j in range(4):\n",
        "        img=X_train.iloc[k].to_numpy()\n",
        "        img=img.reshape((28,28))\n",
        "        ax[i,j].set_xlabel(chr(Y_train[k]+65))\n",
        "        ax[i,j].imshow(img,cmap=\"gray\")\n",
        "        k+=1\n",
        "    plt.tight_layout()\n"
      ],
      "metadata": {
        "colab": {
          "base_uri": "https://localhost:8080/",
          "height": 533
        },
        "id": "8-aZ2qiwgZSa",
        "outputId": "f398e5db-cd9f-42f9-e66e-7abf98f2312b"
      },
      "execution_count": 26,
      "outputs": [
        {
          "output_type": "display_data",
          "data": {
            "text/plain": [
              "<Figure size 800x800 with 8 Axes>"
            ],
            "image/png": "[encoded data removed]"
          },
          "metadata": {}
        }
      ]
    },
    {
      "cell_type": "code",
      "source": [
        "# Normalize the data\n",
        "# If we perform normalization, CNN works faster.\n",
        "\n",
        "X_train=X_train/255.0\n",
        "X_test=X_test/255.0\n",
        "# We scaled image values between 0-255 to 0-1.\n",
        "\n",
        "\n",
        "print(\"x_train shape: \",X_train.shape)\n",
        "print(\"test shape: \",X_test.shape)\n"
      ],
      "metadata": {
        "colab": {
          "base_uri": "https://localhost:8080/"
        },
        "id": "-t-zqSFQghQz",
        "outputId": "76353dc2-cbca-4353-8dd2-c59d66fcbee8"
      },
      "execution_count": 27,
      "outputs": [
        {
          "output_type": "stream",
          "name": "stdout",
          "text": [
            "x_train shape:  (27455, 784)\n",
            "test shape:  (7172, 784)\n"
          ]
        }
      ]
    },
    {
      "cell_type": "code",
      "source": [
        "# Reshape\n",
        "# We reshape all data to 28x28x1 3D matrices.\n",
        "# Keras needs an extra dimension in the end which correspond to channels. Our images are gray scaled so it use only one channel.\n",
        "\n",
        "X_train=X_train.values.reshape(-1,28,28,1)\n",
        "X_test=X_test.values.reshape(-1,28,28,1)\n",
        "\n",
        "print(\"x_train shape: \",X_train.shape)\n",
        "print(\"test shape: \",X_test.shape)"
      ],
      "metadata": {
        "colab": {
          "base_uri": "https://localhost:8080/"
        },
        "id": "Djbr4-E8gr6a",
        "outputId": "d53113af-2158-4282-c5b9-589587894280"
      },
      "execution_count": 28,
      "outputs": [
        {
          "output_type": "stream",
          "name": "stdout",
          "text": [
            "x_train shape:  (27455, 28, 28, 1)\n",
            "test shape:  (7172, 28, 28, 1)\n"
          ]
        }
      ]
    },
    {
      "cell_type": "code",
      "source": [
        "# label encoding:\n",
        "# Encode labels to one hot vectors\n",
        "from sklearn.preprocessing import LabelBinarizer\n",
        "label_binrizer = LabelBinarizer()\n",
        "Y_train = label_binrizer.fit_transform(Y_train)"
      ],
      "metadata": {
        "id": "N_o6QHwTgvOT"
      },
      "execution_count": 29,
      "outputs": []
    },
    {
      "cell_type": "code",
      "source": [
        "# Train Test Split\n",
        "\n",
        "from sklearn.model_selection import train_test_split\n",
        "X_train, X_val, Y_train, Y_val = train_test_split(X_train, Y_train, test_size=0.15, random_state=42)\n",
        "\n",
        "print(\"x_train shape\",X_train.shape)\n",
        "print(\"x_test shape\",X_val.shape)\n",
        "print(\"y_train shape\",Y_train.shape)\n",
        "print(\"y_test shape\",Y_val.shape)"
      ],
      "metadata": {
        "colab": {
          "base_uri": "https://localhost:8080/"
        },
        "id": "e497cxODg1AI",
        "outputId": "cbf9c60b-6a77-41fe-ee67-b3967d0f655c"
      },
      "execution_count": 30,
      "outputs": [
        {
          "output_type": "stream",
          "name": "stdout",
          "text": [
            "x_train shape (23336, 28, 28, 1)\n",
            "x_test shape (4119, 28, 28, 1)\n",
            "y_train shape (23336, 24)\n",
            "y_test shape (4119, 24)\n"
          ]
        }
      ]
    },
    {
      "cell_type": "code",
      "source": [
        "import tensorflow as tf\n",
        "from tensorflow import keras"
      ],
      "metadata": {
        "id": "5HT5B69xhKvt"
      },
      "execution_count": 31,
      "outputs": []
    },
    {
      "cell_type": "code",
      "source": [
        "from sklearn.metrics import confusion_matrix\n",
        "import itertools\n",
        "\n",
        "from keras.utils import to_categorical\n",
        "from keras.models import Sequential\n",
        "from keras.layers import Dense, Dropout, Flatten, Conv2D, MaxPooling2D\n",
        "from keras.optimizers import RMSprop, Adam\n",
        "from keras.preprocessing.image import ImageDataGenerator\n",
        "from keras.callbacks import ReduceLROnPlateau"
      ],
      "metadata": {
        "id": "VggRPyG_g3zd"
      },
      "execution_count": 32,
      "outputs": []
    },
    {
      "cell_type": "markdown",
      "source": [
        "The channel sizes of feature maps gradually become larger and the size of feature maps gradually decreases.\n",
        "\n"
      ],
      "metadata": {
        "id": "EO6C_9aghUbu"
      }
    },
    {
      "cell_type": "markdown",
      "source": [
        "# sign_language_model.h5 First try."
      ],
      "metadata": {
        "id": "waKowuXhZ2jd"
      }
    },
    {
      "cell_type": "code",
      "source": [
        "model=Sequential()\n",
        "\n",
        "model.add(Conv2D(filters=16, kernel_size=(3,3), padding=\"Same\",\n",
        "                activation=\"relu\", input_shape=(28,28,1))) # # We have 8 filters. (5x5)\n",
        "model.add(MaxPooling2D(pool_size=(2,2)))\n",
        "model.add(Dropout(0.25))\n",
        "#\n",
        "\n",
        "model.add(Conv2D(filters=32, kernel_size=(3,3), padding=\"Same\",\n",
        "                activation=\"relu\"))\n",
        "model.add(MaxPooling2D(pool_size=(2,2), strides=(2,2)))\n",
        "model.add(Dropout(0.25))\n",
        "#\n",
        "\n",
        "model.add(Conv2D(filters=64, kernel_size=(3,3), padding=\"Same\",\n",
        "                activation=\"relu\"))\n",
        "model.add(MaxPooling2D(pool_size=(2,2), strides=(2,2)))\n",
        "model.add(Dropout(0.25))\n",
        "# fully connetcted\n",
        "model.add(Flatten())\n",
        "model.add(Dense(512,activation=\"relu\"))\n",
        "model.add(Dropout(0.25))\n",
        "model.add(Dense(24,activation=\"softmax\"))\n",
        "\n",
        "model.summary()"
      ],
      "metadata": {
        "colab": {
          "base_uri": "https://localhost:8080/"
        },
        "id": "JGbKd1jmhMmL",
        "outputId": "802e9d01-bbda-4a86-b02d-c9e8837bb56e"
      },
      "execution_count": null,
      "outputs": [
        {
          "output_type": "stream",
          "name": "stdout",
          "text": [
            "Model: \"sequential_1\"\n",
            "_________________________________________________________________\n",
            " Layer (type)                Output Shape              Param #   \n",
            "=================================================================\n",
            " conv2d_3 (Conv2D)           (None, 28, 28, 16)        160       \n",
            "                                                                 \n",
            " max_pooling2d_2 (MaxPoolin  (None, 14, 14, 16)        0         \n",
            " g2D)                                                            \n",
            "                                                                 \n",
            " dropout_1 (Dropout)         (None, 14, 14, 16)        0         \n",
            "                                                                 \n",
            " conv2d_4 (Conv2D)           (None, 14, 14, 32)        4640      \n",
            "                                                                 \n",
            " max_pooling2d_3 (MaxPoolin  (None, 7, 7, 32)          0         \n",
            " g2D)                                                            \n",
            "                                                                 \n",
            " dropout_2 (Dropout)         (None, 7, 7, 32)          0         \n",
            "                                                                 \n",
            " conv2d_5 (Conv2D)           (None, 7, 7, 64)          18496     \n",
            "                                                                 \n",
            " max_pooling2d_4 (MaxPoolin  (None, 3, 3, 64)          0         \n",
            " g2D)                                                            \n",
            "                                                                 \n",
            " dropout_3 (Dropout)         (None, 3, 3, 64)          0         \n",
            "                                                                 \n",
            " flatten_1 (Flatten)         (None, 576)               0         \n",
            "                                                                 \n",
            " dense_2 (Dense)             (None, 512)               295424    \n",
            "                                                                 \n",
            " dropout_4 (Dropout)         (None, 512)               0         \n",
            "                                                                 \n",
            " dense_3 (Dense)             (None, 24)                12312     \n",
            "                                                                 \n",
            "=================================================================\n",
            "Total params: 331032 (1.26 MB)\n",
            "Trainable params: 331032 (1.26 MB)\n",
            "Non-trainable params: 0 (0.00 Byte)\n",
            "_________________________________________________________________\n"
          ]
        }
      ]
    },
    {
      "cell_type": "markdown",
      "source": [
        "# Second try hand model\n",
        "- Skippar för har kört en gång men sen hann anslutningen brytas innan jag hann spara modellen och har inte tid att göra det igen"
      ],
      "metadata": {
        "id": "F6pSlGAvaDqj"
      }
    },
    {
      "cell_type": "code",
      "source": [
        "# from keras.models import Sequential\n",
        "# from keras.layers import Dense, Dropout, Flatten, Conv2D, MaxPooling2D\n",
        "# from keras.optimizers import Adam\n",
        "\n",
        "# Skapa en enklare modell\n",
        "# model = Sequential()\n",
        "\n",
        "# Första Convolutional Layer\n",
        "# model.add(Conv2D(filters=32, kernel_size=(3,3), padding=\"Same\",\n",
        "                 activation=\"relu\", input_shape=(28,28,1)))\n",
        "# model.add(MaxPooling2D(pool_size=(2,2)))\n",
        "# model.add(Dropout(0.25))\n",
        "\n",
        "# Andra Convolutional Layer\n",
        "# model.add(Conv2D(filters=64, kernel_size=(3,3), padding=\"Same\",\n",
        "                 activation=\"relu\"))\n",
        "# model.add(MaxPooling2D(pool_size=(2,2), strides=(2,2)))\n",
        "# model.add(Dropout(0.25))\n",
        "\n",
        "# Plattar till outputen och använder Dense Layers\n",
        "# model.add(Flatten())\n",
        "# model.add(Dense(128, activation=\"relu\"))\n",
        "# model.add(Dropout(0.25))\n",
        "# model.add(Dense(24, activation=\"softmax\"))  # Antal klasser är 24 (för ASL)\n",
        "\n",
        "# Sammanfattning av modellen\n",
        "# model.summary()\n",
        "\n",
        "# Definiera optimeraren\n",
        "# optimizer = Adam(lr=0.001)\n",
        "\n",
        "# Kompilera modellen\n",
        "# model.compile(optimizer=optimizer, loss=\"categorical_crossentropy\", metrics=[\"accuracy\"])\n"
      ],
      "metadata": {
        "colab": {
          "base_uri": "https://localhost:8080/"
        },
        "id": "K55Ya8R4aKPS",
        "outputId": "997f175b-b6cf-47b1-fc9d-94a8ceb177b1"
      },
      "execution_count": 33,
      "outputs": [
        {
          "output_type": "stream",
          "name": "stdout",
          "text": [
            "Model: \"sequential\"\n",
            "_________________________________________________________________\n",
            " Layer (type)                Output Shape              Param #   \n",
            "=================================================================\n",
            " conv2d (Conv2D)             (None, 28, 28, 32)        320       \n",
            "                                                                 \n",
            " max_pooling2d (MaxPooling2  (None, 14, 14, 32)        0         \n",
            " D)                                                              \n",
            "                                                                 \n",
            " dropout (Dropout)           (None, 14, 14, 32)        0         \n",
            "                                                                 \n",
            " conv2d_1 (Conv2D)           (None, 14, 14, 64)        18496     \n",
            "                                                                 \n",
            " max_pooling2d_1 (MaxPoolin  (None, 7, 7, 64)          0         \n",
            " g2D)                                                            \n",
            "                                                                 \n",
            " dropout_1 (Dropout)         (None, 7, 7, 64)          0         \n",
            "                                                                 \n",
            " flatten (Flatten)           (None, 3136)              0         \n",
            "                                                                 \n",
            " dense (Dense)               (None, 128)               401536    \n",
            "                                                                 \n",
            " dropout_2 (Dropout)         (None, 128)               0         \n",
            "                                                                 \n",
            " dense_1 (Dense)             (None, 24)                3096      \n",
            "                                                                 \n",
            "=================================================================\n",
            "Total params: 423448 (1.62 MB)\n",
            "Trainable params: 423448 (1.62 MB)\n",
            "Non-trainable params: 0 (0.00 Byte)\n",
            "_________________________________________________________________\n"
          ]
        },
        {
          "output_type": "stream",
          "name": "stderr",
          "text": [
            "WARNING:absl:`lr` is deprecated in Keras optimizer, please use `learning_rate` or use the legacy optimizer, e.g.,tf.keras.optimizers.legacy.Adam.\n"
          ]
        }
      ]
    },
    {
      "cell_type": "code",
      "source": [
        "# Define the optimier\n",
        "optimizer=Adam(lr=0.001, beta_1=0.9, beta_2=0.999)\n",
        "# beta 1 and beta2 parameters are the parameters that affect the change of the learning rate."
      ],
      "metadata": {
        "colab": {
          "base_uri": "https://localhost:8080/"
        },
        "id": "_F8APf5DhYYS",
        "outputId": "a9d00c9c-04c8-4de0-f3e1-157ecc3df690"
      },
      "execution_count": null,
      "outputs": [
        {
          "output_type": "stream",
          "name": "stderr",
          "text": [
            "WARNING:absl:`lr` is deprecated in Keras optimizer, please use `learning_rate` or use the legacy optimizer, e.g.,tf.keras.optimizers.legacy.Adam.\n"
          ]
        }
      ]
    },
    {
      "cell_type": "code",
      "source": [
        "# Compile Model:\n",
        "model.compile(optimizer=optimizer, loss=\"categorical_crossentropy\", metrics=[\"accuracy\"])"
      ],
      "metadata": {
        "id": "AF_7SD6phdcV"
      },
      "execution_count": null,
      "outputs": []
    },
    {
      "cell_type": "code",
      "source": [
        "epochs=60 # for better result increase the epochs\n",
        "batch_size=200"
      ],
      "metadata": {
        "id": "4tJtu7l6hh0y"
      },
      "execution_count": 34,
      "outputs": []
    },
    {
      "cell_type": "code",
      "source": [
        "datagen=ImageDataGenerator(rotation_range=40, # Random rotation angle of images.\n",
        "                          width_shift_range=0.2, # Horizontal and vertical scroll ratio of images\n",
        "                          height_shift_range=0.2,\n",
        "                          shear_range=0.2, # Sprain process\n",
        "                          zoom_range=0.2, # rapprochement process\n",
        "                          horizontal_flip=True, #  Rotate image vertically.\n",
        "                          fill_mode='nearest') # scroll, rotate, etc. determines how to fill in the excess image points that appear after the process.\n",
        "\n",
        "datagen.fit(X_train)"
      ],
      "metadata": {
        "id": "4n9_NwHAhkux"
      },
      "execution_count": 35,
      "outputs": []
    },
    {
      "cell_type": "code",
      "source": [
        "## Diversified Image\n",
        "import keras.utils as image\n",
        "\n",
        "a=X_train[0]\n",
        "a=a.reshape((1,)+ a.shape)\n",
        "\n",
        "i=0\n",
        "for batch in datagen.flow(a,batch_size=1):\n",
        "    plt.figure(i)\n",
        "    imgplot=plt.imshow(image.array_to_img(batch[0]))\n",
        "    i+=1\n",
        "    if i%4==0:\n",
        "        break\n",
        "plt.show()"
      ],
      "metadata": {
        "colab": {
          "base_uri": "https://localhost:8080/",
          "height": 1000
        },
        "id": "AYOZu39yhrsR",
        "outputId": "6efee64c-42ad-4f32-d4c9-7fa014109d7a"
      },
      "execution_count": 36,
      "outputs": [
        {
          "output_type": "display_data",
          "data": {
            "text/plain": [
              "<Figure size 640x480 with 1 Axes>"
            ],
            "image/png": "[encoded data removed]"
          },
          "metadata": {}
        },
        {
          "output_type": "display_data",
          "data": {
            "text/plain": [
              "<Figure size 640x480 with 1 Axes>"
            ],
            "image/png": "[encoded data removed]"
          },
          "metadata": {}
        },
        {
          "output_type": "display_data",
          "data": {
            "text/plain": [
              "<Figure size 640x480 with 1 Axes>"
            ],
            "image/png": "[encoded data removed]"
          },
          "metadata": {}
        },
        {
          "output_type": "display_data",
          "data": {
            "text/plain": [
              "<Figure size 640x480 with 1 Axes>"
            ],
            "image/png": "[encoded data removed]"
          },
          "metadata": {}
        }
      ]
    },
    {
      "cell_type": "code",
      "source": [
        "from keras.callbacks import ModelCheckpoint, EarlyStopping, ReduceLROnPlateau\n",
        "\n",
        "# ModelCheckpoint to save the best model\n",
        "checkpoint = ModelCheckpoint(\"sign_language_model.h5\", monitor='val_accuracy', save_best_only=True, verbose=1)\n",
        "\n",
        "# EarlyStopping to stop training when the validation loss has not improved\n",
        "early_stopping = EarlyStopping(monitor='val_loss', patience=5, restore_best_weights=True, verbose=1)\n",
        "\n",
        "# ReduceLROnPlateau to reduce learning rate when a metric has stopped improving\n",
        "reduce_lr = ReduceLROnPlateau(monitor='val_loss', factor=0.2, patience=5, min_lr=0.0001, verbose=1)\n",
        "\n",
        "callbacks = [checkpoint, early_stopping, reduce_lr]\n"
      ],
      "metadata": {
        "id": "CyDdLBx2h_hY"
      },
      "execution_count": 37,
      "outputs": []
    },
    {
      "cell_type": "code",
      "source": [
        "history=model.fit(datagen.flow(X_train,Y_train, batch_size=batch_size), epochs=epochs,\n",
        "                           validation_data=(X_val,Y_val), steps_per_epoch=X_train.shape[0] // batch_size,\n",
        "                            callbacks=callbacks\n",
        "                            )\n"
      ],
      "metadata": {
        "colab": {
          "base_uri": "https://localhost:8080/"
        },
        "id": "zibKQoyHhu0T",
        "outputId": "f18b0f4d-44fd-49d5-bf97-2732d30c1d89"
      },
      "execution_count": null,
      "outputs": [
        {
          "output_type": "stream",
          "name": "stdout",
          "text": [
            "Epoch 1/60\n",
            "116/116 [==============================] - ETA: 0s - loss: 0.8811 - accuracy: 0.7023\n",
            "Epoch 1: val_accuracy improved from -inf to 0.92959, saving model to sign_language_model.h5\n",
            "116/116 [==============================] - 9s 74ms/step - loss: 0.8811 - accuracy: 0.7023 - val_loss: 0.2566 - val_accuracy: 0.9296 - lr: 0.0010\n"
          ]
        },
        {
          "output_type": "stream",
          "name": "stderr",
          "text": [
            "/usr/local/lib/python3.10/dist-packages/keras/src/engine/training.py:3103: UserWarning: You are saving your model as an HDF5 file via `model.save()`. This file format is considered legacy. We recommend using instead the native Keras format, e.g. `model.save('my_model.keras')`.\n",
            "  saving_api.save_model(\n"
          ]
        },
        {
          "output_type": "stream",
          "name": "stdout",
          "text": [
            "Epoch 2/60\n",
            "116/116 [==============================] - ETA: 0s - loss: 0.8583 - accuracy: 0.7057\n",
            "Epoch 2: val_accuracy improved from 0.92959 to 0.93809, saving model to sign_language_model.h5\n",
            "116/116 [==============================] - 8s 67ms/step - loss: 0.8583 - accuracy: 0.7057 - val_loss: 0.2205 - val_accuracy: 0.9381 - lr: 0.0010\n",
            "Epoch 3/60\n",
            "116/116 [==============================] - ETA: 0s - loss: 0.8451 - accuracy: 0.7174\n",
            "Epoch 3: val_accuracy improved from 0.93809 to 0.94003, saving model to sign_language_model.h5\n",
            "116/116 [==============================] - 10s 82ms/step - loss: 0.8451 - accuracy: 0.7174 - val_loss: 0.2138 - val_accuracy: 0.9400 - lr: 0.0010\n",
            "Epoch 4/60\n",
            "116/116 [==============================] - ETA: 0s - loss: 0.8330 - accuracy: 0.7162\n",
            "Epoch 4: val_accuracy did not improve from 0.94003\n",
            "116/116 [==============================] - 9s 76ms/step - loss: 0.8330 - accuracy: 0.7162 - val_loss: 0.2227 - val_accuracy: 0.9371 - lr: 0.0010\n",
            "Epoch 5/60\n",
            "116/116 [==============================] - ETA: 0s - loss: 0.8114 - accuracy: 0.7253\n",
            "Epoch 5: val_accuracy improved from 0.94003 to 0.94416, saving model to sign_language_model.h5\n",
            "116/116 [==============================] - 8s 67ms/step - loss: 0.8114 - accuracy: 0.7253 - val_loss: 0.2092 - val_accuracy: 0.9442 - lr: 0.0010\n",
            "Epoch 6/60\n",
            "116/116 [==============================] - ETA: 0s - loss: 0.7984 - accuracy: 0.7291\n",
            "Epoch 6: val_accuracy improved from 0.94416 to 0.94780, saving model to sign_language_model.h5\n",
            "116/116 [==============================] - 8s 72ms/step - loss: 0.7984 - accuracy: 0.7291 - val_loss: 0.2021 - val_accuracy: 0.9478 - lr: 0.0010\n",
            "Epoch 7/60\n",
            "116/116 [==============================] - ETA: 0s - loss: 0.7668 - accuracy: 0.7385\n",
            "Epoch 7: val_accuracy improved from 0.94780 to 0.95484, saving model to sign_language_model.h5\n",
            "116/116 [==============================] - 9s 74ms/step - loss: 0.7668 - accuracy: 0.7385 - val_loss: 0.1914 - val_accuracy: 0.9548 - lr: 0.0010\n",
            "Epoch 8/60\n",
            "116/116 [==============================] - ETA: 0s - loss: 0.7621 - accuracy: 0.7385\n",
            "Epoch 8: val_accuracy did not improve from 0.95484\n",
            "116/116 [==============================] - 9s 74ms/step - loss: 0.7621 - accuracy: 0.7385 - val_loss: 0.1991 - val_accuracy: 0.9449 - lr: 0.0010\n",
            "Epoch 9/60\n",
            "116/116 [==============================] - ETA: 0s - loss: 0.7549 - accuracy: 0.7421\n",
            "Epoch 9: val_accuracy did not improve from 0.95484\n",
            "116/116 [==============================] - 8s 66ms/step - loss: 0.7549 - accuracy: 0.7421 - val_loss: 0.1959 - val_accuracy: 0.9437 - lr: 0.0010\n",
            "Epoch 10/60\n",
            "116/116 [==============================] - ETA: 0s - loss: 0.7400 - accuracy: 0.7489\n",
            "Epoch 10: val_accuracy improved from 0.95484 to 0.95849, saving model to sign_language_model.h5\n",
            "116/116 [==============================] - 9s 77ms/step - loss: 0.7400 - accuracy: 0.7489 - val_loss: 0.1662 - val_accuracy: 0.9585 - lr: 0.0010\n",
            "Epoch 11/60\n",
            "116/116 [==============================] - ETA: 0s - loss: 0.7292 - accuracy: 0.7526\n",
            "Epoch 11: val_accuracy did not improve from 0.95849\n",
            "116/116 [==============================] - 8s 70ms/step - loss: 0.7292 - accuracy: 0.7526 - val_loss: 0.1763 - val_accuracy: 0.9500 - lr: 0.0010\n",
            "Epoch 12/60\n",
            "116/116 [==============================] - ETA: 0s - loss: 0.7228 - accuracy: 0.7564\n",
            "Epoch 12: val_accuracy did not improve from 0.95849\n",
            "116/116 [==============================] - 8s 71ms/step - loss: 0.7228 - accuracy: 0.7564 - val_loss: 0.1598 - val_accuracy: 0.9548 - lr: 0.0010\n",
            "Epoch 13/60\n",
            "116/116 [==============================] - ETA: 0s - loss: 0.7165 - accuracy: 0.7570\n",
            "Epoch 13: val_accuracy improved from 0.95849 to 0.96213, saving model to sign_language_model.h5\n",
            "116/116 [==============================] - 9s 74ms/step - loss: 0.7165 - accuracy: 0.7570 - val_loss: 0.1482 - val_accuracy: 0.9621 - lr: 0.0010\n",
            "Epoch 14/60\n",
            "116/116 [==============================] - ETA: 0s - loss: 0.6941 - accuracy: 0.7632\n",
            "Epoch 14: val_accuracy did not improve from 0.96213\n",
            "116/116 [==============================] - 7s 64ms/step - loss: 0.6941 - accuracy: 0.7632 - val_loss: 0.1514 - val_accuracy: 0.9548 - lr: 0.0010\n",
            "Epoch 15/60\n",
            "116/116 [==============================] - ETA: 0s - loss: 0.6773 - accuracy: 0.7677\n",
            "Epoch 15: val_accuracy did not improve from 0.96213\n",
            "116/116 [==============================] - 9s 74ms/step - loss: 0.6773 - accuracy: 0.7677 - val_loss: 0.1483 - val_accuracy: 0.9587 - lr: 0.0010\n",
            "Epoch 16/60\n",
            "116/116 [==============================] - ETA: 0s - loss: 0.6765 - accuracy: 0.7712\n",
            "Epoch 16: val_accuracy did not improve from 0.96213\n",
            "116/116 [==============================] - 9s 77ms/step - loss: 0.6765 - accuracy: 0.7712 - val_loss: 0.1453 - val_accuracy: 0.9614 - lr: 0.0010\n",
            "Epoch 17/60\n",
            "116/116 [==============================] - ETA: 0s - loss: 0.6593 - accuracy: 0.7728\n",
            "Epoch 17: val_accuracy did not improve from 0.96213\n",
            "116/116 [==============================] - 8s 66ms/step - loss: 0.6593 - accuracy: 0.7728 - val_loss: 0.1391 - val_accuracy: 0.9604 - lr: 0.0010\n",
            "Epoch 18/60\n",
            "116/116 [==============================] - ETA: 0s - loss: 0.6495 - accuracy: 0.7795\n",
            "Epoch 18: val_accuracy improved from 0.96213 to 0.96723, saving model to sign_language_model.h5\n",
            "116/116 [==============================] - 9s 80ms/step - loss: 0.6495 - accuracy: 0.7795 - val_loss: 0.1171 - val_accuracy: 0.9672 - lr: 0.0010\n",
            "Epoch 19/60\n",
            "116/116 [==============================] - ETA: 0s - loss: 0.6443 - accuracy: 0.7828\n",
            "Epoch 19: val_accuracy did not improve from 0.96723\n",
            "116/116 [==============================] - 9s 77ms/step - loss: 0.6443 - accuracy: 0.7828 - val_loss: 0.1199 - val_accuracy: 0.9653 - lr: 0.0010\n",
            "Epoch 20/60\n",
            "116/116 [==============================] - ETA: 0s - loss: 0.6334 - accuracy: 0.7841\n",
            "Epoch 20: val_accuracy improved from 0.96723 to 0.97427, saving model to sign_language_model.h5\n",
            "116/116 [==============================] - 7s 64ms/step - loss: 0.6334 - accuracy: 0.7841 - val_loss: 0.1100 - val_accuracy: 0.9743 - lr: 0.0010\n",
            "Epoch 21/60\n",
            "116/116 [==============================] - ETA: 0s - loss: 0.6287 - accuracy: 0.7838\n",
            "Epoch 21: val_accuracy improved from 0.97427 to 0.97645, saving model to sign_language_model.h5\n",
            "116/116 [==============================] - 9s 75ms/step - loss: 0.6287 - accuracy: 0.7838 - val_loss: 0.0991 - val_accuracy: 0.9765 - lr: 0.0010\n",
            "Epoch 22/60\n",
            "116/116 [==============================] - ETA: 0s - loss: 0.6241 - accuracy: 0.7872\n",
            "Epoch 22: val_accuracy did not improve from 0.97645\n",
            "116/116 [==============================] - 9s 77ms/step - loss: 0.6241 - accuracy: 0.7872 - val_loss: 0.1134 - val_accuracy: 0.9706 - lr: 0.0010\n",
            "Epoch 23/60\n",
            "116/116 [==============================] - ETA: 0s - loss: 0.5955 - accuracy: 0.7944\n",
            "Epoch 23: val_accuracy did not improve from 0.97645\n",
            "116/116 [==============================] - 7s 64ms/step - loss: 0.5955 - accuracy: 0.7944 - val_loss: 0.1107 - val_accuracy: 0.9697 - lr: 0.0010\n",
            "Epoch 24/60\n",
            "116/116 [==============================] - ETA: 0s - loss: 0.6217 - accuracy: 0.7859\n",
            "Epoch 24: val_accuracy improved from 0.97645 to 0.97985, saving model to sign_language_model.h5\n",
            "116/116 [==============================] - 8s 72ms/step - loss: 0.6217 - accuracy: 0.7859 - val_loss: 0.0939 - val_accuracy: 0.9798 - lr: 0.0010\n",
            "Epoch 25/60\n",
            "116/116 [==============================] - ETA: 0s - loss: 0.5971 - accuracy: 0.7945\n",
            "Epoch 25: val_accuracy did not improve from 0.97985\n",
            "116/116 [==============================] - 9s 74ms/step - loss: 0.5971 - accuracy: 0.7945 - val_loss: 0.1142 - val_accuracy: 0.9684 - lr: 0.0010\n",
            "Epoch 26/60\n",
            "116/116 [==============================] - ETA: 0s - loss: 0.6062 - accuracy: 0.7960\n",
            "Epoch 26: val_accuracy did not improve from 0.97985\n",
            "116/116 [==============================] - 8s 67ms/step - loss: 0.6062 - accuracy: 0.7960 - val_loss: 0.1005 - val_accuracy: 0.9714 - lr: 0.0010\n",
            "Epoch 27/60\n",
            "116/116 [==============================] - ETA: 0s - loss: 0.5937 - accuracy: 0.7994\n",
            "Epoch 27: val_accuracy did not improve from 0.97985\n",
            "116/116 [==============================] - 8s 65ms/step - loss: 0.5937 - accuracy: 0.7994 - val_loss: 0.1117 - val_accuracy: 0.9689 - lr: 0.0010\n",
            "Epoch 28/60\n",
            "116/116 [==============================] - ETA: 0s - loss: 0.5860 - accuracy: 0.8014\n",
            "Epoch 28: val_accuracy did not improve from 0.97985\n",
            "116/116 [==============================] - 9s 74ms/step - loss: 0.5860 - accuracy: 0.8014 - val_loss: 0.0926 - val_accuracy: 0.9772 - lr: 0.0010\n",
            "Epoch 29/60\n",
            "116/116 [==============================] - ETA: 0s - loss: 0.5738 - accuracy: 0.8061\n",
            "Epoch 29: val_accuracy improved from 0.97985 to 0.98009, saving model to sign_language_model.h5\n",
            "116/116 [==============================] - 10s 88ms/step - loss: 0.5738 - accuracy: 0.8061 - val_loss: 0.0858 - val_accuracy: 0.9801 - lr: 0.0010\n",
            "Epoch 30/60\n",
            "116/116 [==============================] - ETA: 0s - loss: 0.5642 - accuracy: 0.8051\n",
            "Epoch 30: val_accuracy improved from 0.98009 to 0.98373, saving model to sign_language_model.h5\n",
            "116/116 [==============================] - 8s 71ms/step - loss: 0.5642 - accuracy: 0.8051 - val_loss: 0.0815 - val_accuracy: 0.9837 - lr: 0.0010\n",
            "Epoch 31/60\n",
            "116/116 [==============================] - ETA: 0s - loss: 0.5679 - accuracy: 0.8061\n",
            "Epoch 31: val_accuracy did not improve from 0.98373\n",
            "116/116 [==============================] - 9s 77ms/step - loss: 0.5679 - accuracy: 0.8061 - val_loss: 0.0788 - val_accuracy: 0.9830 - lr: 0.0010\n",
            "Epoch 32/60\n",
            "116/116 [==============================] - ETA: 0s - loss: 0.5663 - accuracy: 0.8065\n",
            "Epoch 32: val_accuracy did not improve from 0.98373\n",
            "116/116 [==============================] - 8s 73ms/step - loss: 0.5663 - accuracy: 0.8065 - val_loss: 0.0872 - val_accuracy: 0.9786 - lr: 0.0010\n",
            "Epoch 33/60\n",
            "116/116 [==============================] - ETA: 0s - loss: 0.5595 - accuracy: 0.8069\n",
            "Epoch 33: val_accuracy improved from 0.98373 to 0.98422, saving model to sign_language_model.h5\n",
            "116/116 [==============================] - 8s 67ms/step - loss: 0.5595 - accuracy: 0.8069 - val_loss: 0.0771 - val_accuracy: 0.9842 - lr: 0.0010\n",
            "Epoch 34/60\n",
            "116/116 [==============================] - ETA: 0s - loss: 0.5443 - accuracy: 0.8126\n",
            "Epoch 34: val_accuracy did not improve from 0.98422\n",
            "116/116 [==============================] - 9s 75ms/step - loss: 0.5443 - accuracy: 0.8126 - val_loss: 0.0721 - val_accuracy: 0.9828 - lr: 0.0010\n",
            "Epoch 35/60\n",
            "116/116 [==============================] - ETA: 0s - loss: 0.5554 - accuracy: 0.8119\n",
            "Epoch 35: val_accuracy did not improve from 0.98422\n",
            "116/116 [==============================] - 8s 67ms/step - loss: 0.5554 - accuracy: 0.8119 - val_loss: 0.0853 - val_accuracy: 0.9748 - lr: 0.0010\n",
            "Epoch 36/60\n",
            "116/116 [==============================] - ETA: 0s - loss: 0.5387 - accuracy: 0.8171\n",
            "Epoch 36: val_accuracy did not improve from 0.98422\n",
            "116/116 [==============================] - 8s 70ms/step - loss: 0.5387 - accuracy: 0.8171 - val_loss: 0.0747 - val_accuracy: 0.9811 - lr: 0.0010\n",
            "Epoch 37/60\n",
            "116/116 [==============================] - ETA: 0s - loss: 0.5325 - accuracy: 0.8186\n",
            "Epoch 37: val_accuracy did not improve from 0.98422\n",
            "116/116 [==============================] - 9s 74ms/step - loss: 0.5325 - accuracy: 0.8186 - val_loss: 0.0751 - val_accuracy: 0.9798 - lr: 0.0010\n",
            "Epoch 38/60\n",
            "116/116 [==============================] - ETA: 0s - loss: 0.5342 - accuracy: 0.8164\n",
            "Epoch 38: val_accuracy did not improve from 0.98422\n",
            "116/116 [==============================] - 8s 67ms/step - loss: 0.5342 - accuracy: 0.8164 - val_loss: 0.0728 - val_accuracy: 0.9791 - lr: 0.0010\n",
            "Epoch 39/60\n",
            "116/116 [==============================] - ETA: 0s - loss: 0.5288 - accuracy: 0.8190\n",
            "Epoch 39: val_accuracy did not improve from 0.98422\n",
            "Restoring model weights from the end of the best epoch: 34.\n",
            "\n",
            "Epoch 39: ReduceLROnPlateau reducing learning rate to 0.00020000000949949026.\n",
            "116/116 [==============================] - 7s 64ms/step - loss: 0.5288 - accuracy: 0.8190 - val_loss: 0.0788 - val_accuracy: 0.9815 - lr: 0.0010\n",
            "Epoch 39: early stopping\n"
          ]
        }
      ]
    },
    {
      "cell_type": "code",
      "source": [
        "# SECOND TRY\n",
        "history=model.fit(datagen.flow(X_train,Y_train, batch_size=batch_size), epochs=epochs,\n",
        "                           validation_data=(X_val,Y_val), steps_per_epoch=X_train.shape[0] // batch_size,\n",
        "                            callbacks=callbacks\n",
        "                            )\n"
      ],
      "metadata": {
        "colab": {
          "base_uri": "https://localhost:8080/"
        },
        "id": "Oz82Ls2Lad-K",
        "outputId": "237ede80-11a9-4aad-ddd7-5f3d6d3368f8"
      },
      "execution_count": 38,
      "outputs": [
        {
          "metadata": {
            "tags": null
          },
          "name": "stdout",
          "output_type": "stream",
          "text": [
            "Epoch 1/60\n",
            "116/116 [==============================] - ETA: 0s - loss: 3.1628 - accuracy: 0.0561\n",
            "Epoch 1: val_accuracy improved from -inf to 0.11969, saving model to sign_language_model_2.h5\n",
            "116/116 [==============================] - 16s 81ms/step - loss: 3.1628 - accuracy: 0.0561 - val_loss: 3.0382 - val_accuracy: 0.1197 - lr: 0.0010\n"
          ]
        },
        {
          "metadata": {
            "tags": null
          },
          "name": "stderr",
          "output_type": "stream",
          "text": [
            "/usr/local/lib/python3.10/dist-packages/keras/src/engine/training.py:3103: UserWarning: You are saving your model as an HDF5 file via `model.save()`. This file format is considered legacy. We recommend using instead the native Keras format, e.g. `model.save('my_model.keras')`.\n",
            "  saving_api.save_model(\n"
          ]
        },
        {
          "output_type": "stream",
          "name": "stdout",
          "text": [
            "Epoch 2/60\n",
            "116/116 [==============================] - ETA: 0s - loss: 2.9589 - accuracy: 0.1149\n",
            "Epoch 2: val_accuracy improved from 0.11969 to 0.22433, saving model to sign_language_model_2.h5\n",
            "116/116 [==============================] - 8s 66ms/step - loss: 2.9589 - accuracy: 0.1149 - val_loss: 2.6152 - val_accuracy: 0.2243 - lr: 0.0010\n",
            "Epoch 3/60\n",
            "116/116 [==============================] - ETA: 0s - loss: 2.7112 - accuracy: 0.1674\n",
            "Epoch 3: val_accuracy improved from 0.22433 to 0.31755, saving model to sign_language_model_2.h5\n",
            "116/116 [==============================] - 9s 76ms/step - loss: 2.7112 - accuracy: 0.1674 - val_loss: 2.2256 - val_accuracy: 0.3176 - lr: 0.0010\n",
            "Epoch 4/60\n",
            "116/116 [==============================] - ETA: 0s - loss: 2.4613 - accuracy: 0.2270\n",
            "Epoch 4: val_accuracy improved from 0.31755 to 0.42437, saving model to sign_language_model_2.h5\n",
            "116/116 [==============================] - 9s 74ms/step - loss: 2.4613 - accuracy: 0.2270 - val_loss: 1.8614 - val_accuracy: 0.4244 - lr: 0.0010\n",
            "Epoch 5/60\n",
            "116/116 [==============================] - ETA: 0s - loss: 2.3024 - accuracy: 0.2679\n",
            "Epoch 5: val_accuracy improved from 0.42437 to 0.49891, saving model to sign_language_model_2.h5\n",
            "116/116 [==============================] - 8s 66ms/step - loss: 2.3024 - accuracy: 0.2679 - val_loss: 1.6466 - val_accuracy: 0.4989 - lr: 0.0010\n",
            "Epoch 6/60\n",
            "116/116 [==============================] - ETA: 0s - loss: 2.2102 - accuracy: 0.2942\n",
            "Epoch 6: val_accuracy did not improve from 0.49891\n",
            "116/116 [==============================] - 9s 76ms/step - loss: 2.2102 - accuracy: 0.2942 - val_loss: 1.6880 - val_accuracy: 0.4625 - lr: 0.0010\n",
            "Epoch 7/60\n",
            "116/116 [==============================] - ETA: 0s - loss: 2.0963 - accuracy: 0.3230\n",
            "Epoch 7: val_accuracy improved from 0.49891 to 0.52488, saving model to sign_language_model_2.h5\n",
            "116/116 [==============================] - 9s 76ms/step - loss: 2.0963 - accuracy: 0.3230 - val_loss: 1.4895 - val_accuracy: 0.5249 - lr: 0.0010\n",
            "Epoch 8/60\n",
            "116/116 [==============================] - ETA: 0s - loss: 2.0150 - accuracy: 0.3473\n",
            "Epoch 8: val_accuracy improved from 0.52488 to 0.56689, saving model to sign_language_model_2.h5\n",
            "116/116 [==============================] - 10s 85ms/step - loss: 2.0150 - accuracy: 0.3473 - val_loss: 1.4140 - val_accuracy: 0.5669 - lr: 0.0010\n",
            "Epoch 9/60\n",
            "116/116 [==============================] - ETA: 0s - loss: 1.9508 - accuracy: 0.3645\n",
            "Epoch 9: val_accuracy improved from 0.56689 to 0.60646, saving model to sign_language_model_2.h5\n",
            "116/116 [==============================] - 9s 77ms/step - loss: 1.9508 - accuracy: 0.3645 - val_loss: 1.2346 - val_accuracy: 0.6065 - lr: 0.0010\n",
            "Epoch 10/60\n",
            "116/116 [==============================] - ETA: 0s - loss: 1.8783 - accuracy: 0.3887\n",
            "Epoch 10: val_accuracy improved from 0.60646 to 0.64312, saving model to sign_language_model_2.h5\n",
            "116/116 [==============================] - 9s 77ms/step - loss: 1.8783 - accuracy: 0.3887 - val_loss: 1.1788 - val_accuracy: 0.6431 - lr: 0.0010\n",
            "Epoch 11/60\n",
            "116/116 [==============================] - ETA: 0s - loss: 1.8339 - accuracy: 0.3973\n",
            "Epoch 11: val_accuracy improved from 0.64312 to 0.66521, saving model to sign_language_model_2.h5\n",
            "116/116 [==============================] - 9s 74ms/step - loss: 1.8339 - accuracy: 0.3973 - val_loss: 1.0947 - val_accuracy: 0.6652 - lr: 0.0010\n",
            "Epoch 12/60\n",
            "116/116 [==============================] - ETA: 0s - loss: 1.7641 - accuracy: 0.4211\n",
            "Epoch 12: val_accuracy did not improve from 0.66521\n",
            "116/116 [==============================] - 9s 76ms/step - loss: 1.7641 - accuracy: 0.4211 - val_loss: 1.0835 - val_accuracy: 0.6470 - lr: 0.0010\n",
            "Epoch 13/60\n",
            "116/116 [==============================] - ETA: 0s - loss: 1.7315 - accuracy: 0.4340\n",
            "Epoch 13: val_accuracy improved from 0.66521 to 0.71255, saving model to sign_language_model_2.h5\n",
            "116/116 [==============================] - 9s 76ms/step - loss: 1.7315 - accuracy: 0.4340 - val_loss: 0.9490 - val_accuracy: 0.7126 - lr: 0.0010\n",
            "Epoch 14/60\n",
            "116/116 [==============================] - ETA: 0s - loss: 1.6988 - accuracy: 0.4380\n",
            "Epoch 14: val_accuracy improved from 0.71255 to 0.73780, saving model to sign_language_model_2.h5\n",
            "116/116 [==============================] - 8s 68ms/step - loss: 1.6988 - accuracy: 0.4380 - val_loss: 0.8989 - val_accuracy: 0.7378 - lr: 0.0010\n",
            "Epoch 15/60\n",
            "116/116 [==============================] - ETA: 0s - loss: 1.6516 - accuracy: 0.4531\n",
            "Epoch 15: val_accuracy did not improve from 0.73780\n",
            "116/116 [==============================] - 9s 78ms/step - loss: 1.6516 - accuracy: 0.4531 - val_loss: 0.8744 - val_accuracy: 0.7322 - lr: 0.0010\n",
            "Epoch 16/60\n",
            "116/116 [==============================] - ETA: 0s - loss: 1.6148 - accuracy: 0.4630\n",
            "Epoch 16: val_accuracy improved from 0.73780 to 0.74678, saving model to sign_language_model_2.h5\n",
            "116/116 [==============================] - 9s 79ms/step - loss: 1.6148 - accuracy: 0.4630 - val_loss: 0.8315 - val_accuracy: 0.7468 - lr: 0.0010\n",
            "Epoch 17/60\n",
            "116/116 [==============================] - ETA: 0s - loss: 1.5715 - accuracy: 0.4792\n",
            "Epoch 17: val_accuracy improved from 0.74678 to 0.75504, saving model to sign_language_model_2.h5\n",
            "116/116 [==============================] - 8s 67ms/step - loss: 1.5715 - accuracy: 0.4792 - val_loss: 0.8078 - val_accuracy: 0.7550 - lr: 0.0010\n",
            "Epoch 18/60\n",
            "116/116 [==============================] - ETA: 0s - loss: 1.5445 - accuracy: 0.4837\n",
            "Epoch 18: val_accuracy improved from 0.75504 to 0.80092, saving model to sign_language_model_2.h5\n",
            "116/116 [==============================] - 8s 72ms/step - loss: 1.5445 - accuracy: 0.4837 - val_loss: 0.7098 - val_accuracy: 0.8009 - lr: 0.0010\n",
            "Epoch 19/60\n",
            "116/116 [==============================] - ETA: 0s - loss: 1.5179 - accuracy: 0.4901\n",
            "Epoch 19: val_accuracy did not improve from 0.80092\n",
            "116/116 [==============================] - 9s 79ms/step - loss: 1.5179 - accuracy: 0.4901 - val_loss: 0.7465 - val_accuracy: 0.7958 - lr: 0.0010\n",
            "Epoch 20/60\n",
            "116/116 [==============================] - ETA: 0s - loss: 1.4906 - accuracy: 0.5014\n",
            "Epoch 20: val_accuracy improved from 0.80092 to 0.82423, saving model to sign_language_model_2.h5\n",
            "116/116 [==============================] - 9s 81ms/step - loss: 1.4906 - accuracy: 0.5014 - val_loss: 0.6684 - val_accuracy: 0.8242 - lr: 0.0010\n",
            "Epoch 21/60\n",
            "116/116 [==============================] - ETA: 0s - loss: 1.4665 - accuracy: 0.5134\n",
            "Epoch 21: val_accuracy did not improve from 0.82423\n",
            "116/116 [==============================] - 8s 66ms/step - loss: 1.4665 - accuracy: 0.5134 - val_loss: 0.6325 - val_accuracy: 0.8218 - lr: 0.0010\n",
            "Epoch 22/60\n",
            "116/116 [==============================] - ETA: 0s - loss: 1.4431 - accuracy: 0.5140\n",
            "Epoch 22: val_accuracy did not improve from 0.82423\n",
            "116/116 [==============================] - 9s 81ms/step - loss: 1.4431 - accuracy: 0.5140 - val_loss: 0.6456 - val_accuracy: 0.8152 - lr: 0.0010\n",
            "Epoch 23/60\n",
            "116/116 [==============================] - ETA: 0s - loss: 1.4272 - accuracy: 0.5203\n",
            "Epoch 23: val_accuracy did not improve from 0.82423\n",
            "116/116 [==============================] - 11s 95ms/step - loss: 1.4272 - accuracy: 0.5203 - val_loss: 0.6197 - val_accuracy: 0.8211 - lr: 0.0010\n",
            "Epoch 24/60\n",
            "116/116 [==============================] - ETA: 0s - loss: 1.4145 - accuracy: 0.5214\n",
            "Epoch 24: val_accuracy did not improve from 0.82423\n",
            "116/116 [==============================] - 8s 69ms/step - loss: 1.4145 - accuracy: 0.5214 - val_loss: 0.6431 - val_accuracy: 0.8182 - lr: 0.0010\n",
            "Epoch 25/60\n",
            "116/116 [==============================] - ETA: 0s - loss: 1.3938 - accuracy: 0.5306\n",
            "Epoch 25: val_accuracy improved from 0.82423 to 0.83904, saving model to sign_language_model_2.h5\n",
            "116/116 [==============================] - 8s 67ms/step - loss: 1.3938 - accuracy: 0.5306 - val_loss: 0.5893 - val_accuracy: 0.8390 - lr: 0.0010\n",
            "Epoch 26/60\n",
            "116/116 [==============================] - ETA: 0s - loss: 1.3630 - accuracy: 0.5389\n",
            "Epoch 26: val_accuracy improved from 0.83904 to 0.85361, saving model to sign_language_model_2.h5\n",
            "116/116 [==============================] - 9s 80ms/step - loss: 1.3630 - accuracy: 0.5389 - val_loss: 0.5599 - val_accuracy: 0.8536 - lr: 0.0010\n",
            "Epoch 27/60\n",
            "116/116 [==============================] - ETA: 0s - loss: 1.3581 - accuracy: 0.5424\n",
            "Epoch 27: val_accuracy did not improve from 0.85361\n",
            "116/116 [==============================] - 9s 76ms/step - loss: 1.3581 - accuracy: 0.5424 - val_loss: 0.5647 - val_accuracy: 0.8296 - lr: 0.0010\n",
            "Epoch 28/60\n",
            "116/116 [==============================] - ETA: 0s - loss: 1.3259 - accuracy: 0.5517\n",
            "Epoch 28: val_accuracy did not improve from 0.85361\n",
            "116/116 [==============================] - 8s 68ms/step - loss: 1.3259 - accuracy: 0.5517 - val_loss: 0.5303 - val_accuracy: 0.8468 - lr: 0.0010\n",
            "Epoch 29/60\n",
            "116/116 [==============================] - ETA: 0s - loss: 1.3136 - accuracy: 0.5586\n",
            "Epoch 29: val_accuracy did not improve from 0.85361\n",
            "116/116 [==============================] - 9s 77ms/step - loss: 1.3136 - accuracy: 0.5586 - val_loss: 0.4870 - val_accuracy: 0.8502 - lr: 0.0010\n",
            "Epoch 30/60\n",
            "116/116 [==============================] - ETA: 0s - loss: 1.2804 - accuracy: 0.5644\n",
            "Epoch 30: val_accuracy improved from 0.85361 to 0.86404, saving model to sign_language_model_2.h5\n",
            "116/116 [==============================] - 9s 79ms/step - loss: 1.2804 - accuracy: 0.5644 - val_loss: 0.4754 - val_accuracy: 0.8640 - lr: 0.0010\n",
            "Epoch 31/60\n",
            "116/116 [==============================] - ETA: 0s - loss: 1.2800 - accuracy: 0.5645\n",
            "Epoch 31: val_accuracy improved from 0.86404 to 0.86939, saving model to sign_language_model_2.h5\n",
            "116/116 [==============================] - 8s 66ms/step - loss: 1.2800 - accuracy: 0.5645 - val_loss: 0.4574 - val_accuracy: 0.8694 - lr: 0.0010\n",
            "Epoch 32/60\n",
            "116/116 [==============================] - ETA: 0s - loss: 1.2550 - accuracy: 0.5686\n",
            "Epoch 32: val_accuracy did not improve from 0.86939\n",
            "116/116 [==============================] - 9s 81ms/step - loss: 1.2550 - accuracy: 0.5686 - val_loss: 0.5140 - val_accuracy: 0.8456 - lr: 0.0010\n",
            "Epoch 33/60\n",
            "116/116 [==============================] - ETA: 0s - loss: 1.2514 - accuracy: 0.5753\n",
            "Epoch 33: val_accuracy improved from 0.86939 to 0.87376, saving model to sign_language_model_2.h5\n",
            "116/116 [==============================] - 9s 78ms/step - loss: 1.2514 - accuracy: 0.5753 - val_loss: 0.4389 - val_accuracy: 0.8738 - lr: 0.0010\n",
            "Epoch 34/60\n",
            "116/116 [==============================] - ETA: 0s - loss: 1.2323 - accuracy: 0.5767\n",
            "Epoch 34: val_accuracy did not improve from 0.87376\n",
            "116/116 [==============================] - 8s 70ms/step - loss: 1.2323 - accuracy: 0.5767 - val_loss: 0.4629 - val_accuracy: 0.8699 - lr: 0.0010\n",
            "Epoch 35/60\n",
            "116/116 [==============================] - ETA: 0s - loss: 1.2309 - accuracy: 0.5797\n",
            "Epoch 35: val_accuracy improved from 0.87376 to 0.87715, saving model to sign_language_model_2.h5\n",
            "116/116 [==============================] - 9s 82ms/step - loss: 1.2309 - accuracy: 0.5797 - val_loss: 0.4215 - val_accuracy: 0.8772 - lr: 0.0010\n",
            "Epoch 36/60\n",
            "116/116 [==============================] - ETA: 0s - loss: 1.1960 - accuracy: 0.5942\n",
            "Epoch 36: val_accuracy improved from 0.87715 to 0.87983, saving model to sign_language_model_2.h5\n",
            "116/116 [==============================] - 9s 81ms/step - loss: 1.1960 - accuracy: 0.5942 - val_loss: 0.4202 - val_accuracy: 0.8798 - lr: 0.0010\n",
            "Epoch 37/60\n",
            "116/116 [==============================] - ETA: 0s - loss: 1.1952 - accuracy: 0.5951\n",
            "Epoch 37: val_accuracy improved from 0.87983 to 0.89876, saving model to sign_language_model_2.h5\n",
            "116/116 [==============================] - 8s 70ms/step - loss: 1.1952 - accuracy: 0.5951 - val_loss: 0.3982 - val_accuracy: 0.8988 - lr: 0.0010\n",
            "Epoch 38/60\n",
            "116/116 [==============================] - ETA: 0s - loss: 1.1884 - accuracy: 0.5941\n",
            "Epoch 38: val_accuracy did not improve from 0.89876\n",
            "116/116 [==============================] - 9s 74ms/step - loss: 1.1884 - accuracy: 0.5941 - val_loss: 0.4157 - val_accuracy: 0.8762 - lr: 0.0010\n",
            "Epoch 39/60\n",
            "116/116 [==============================] - ETA: 0s - loss: 1.1735 - accuracy: 0.6001\n",
            "Epoch 39: val_accuracy did not improve from 0.89876\n",
            "116/116 [==============================] - 9s 74ms/step - loss: 1.1735 - accuracy: 0.6001 - val_loss: 0.3840 - val_accuracy: 0.8900 - lr: 0.0010\n",
            "Epoch 40/60\n",
            "116/116 [==============================] - ETA: 0s - loss: 1.1538 - accuracy: 0.6030\n",
            "Epoch 40: val_accuracy did not improve from 0.89876\n",
            "116/116 [==============================] - 9s 74ms/step - loss: 1.1538 - accuracy: 0.6030 - val_loss: 0.3836 - val_accuracy: 0.8810 - lr: 0.0010\n",
            "Epoch 41/60\n",
            "116/116 [==============================] - ETA: 0s - loss: 1.1492 - accuracy: 0.6045\n",
            "Epoch 41: val_accuracy did not improve from 0.89876\n",
            "116/116 [==============================] - 8s 66ms/step - loss: 1.1492 - accuracy: 0.6045 - val_loss: 0.3798 - val_accuracy: 0.8898 - lr: 0.0010\n",
            "Epoch 42/60\n",
            "116/116 [==============================] - ETA: 0s - loss: 1.1255 - accuracy: 0.6151\n",
            "Epoch 42: val_accuracy did not improve from 0.89876\n",
            "116/116 [==============================] - 9s 73ms/step - loss: 1.1255 - accuracy: 0.6151 - val_loss: 0.3647 - val_accuracy: 0.8988 - lr: 0.0010\n",
            "Epoch 43/60\n",
            "116/116 [==============================] - ETA: 0s - loss: 1.1236 - accuracy: 0.6154\n",
            "Epoch 43: val_accuracy improved from 0.89876 to 0.91090, saving model to sign_language_model_2.h5\n",
            "116/116 [==============================] - 9s 74ms/step - loss: 1.1236 - accuracy: 0.6154 - val_loss: 0.3432 - val_accuracy: 0.9109 - lr: 0.0010\n",
            "Epoch 44/60\n",
            "116/116 [==============================] - ETA: 0s - loss: 1.1109 - accuracy: 0.6121\n",
            "Epoch 44: val_accuracy did not improve from 0.91090\n",
            "116/116 [==============================] - 9s 74ms/step - loss: 1.1109 - accuracy: 0.6121 - val_loss: 0.3838 - val_accuracy: 0.8898 - lr: 0.0010\n",
            "Epoch 45/60\n",
            "116/116 [==============================] - ETA: 0s - loss: 1.1154 - accuracy: 0.6188\n",
            "Epoch 45: val_accuracy did not improve from 0.91090\n",
            "116/116 [==============================] - 8s 69ms/step - loss: 1.1154 - accuracy: 0.6188 - val_loss: 0.3428 - val_accuracy: 0.9109 - lr: 0.0010\n",
            "Epoch 46/60\n",
            "115/116 [============================>.] - ETA: 0s - loss: 1.0830 - accuracy: 0.6281\n",
            "Epoch 46: val_accuracy improved from 0.91090 to 0.91551, saving model to sign_language_model_2.h5\n",
            "116/116 [==============================] - 9s 77ms/step - loss: 1.0826 - accuracy: 0.6283 - val_loss: 0.3355 - val_accuracy: 0.9155 - lr: 0.0010\n",
            "Epoch 47/60\n",
            "116/116 [==============================] - ETA: 0s - loss: 1.0805 - accuracy: 0.6304\n",
            "Epoch 47: val_accuracy did not improve from 0.91551\n",
            "116/116 [==============================] - 9s 75ms/step - loss: 1.0805 - accuracy: 0.6304 - val_loss: 0.3221 - val_accuracy: 0.9060 - lr: 0.0010\n",
            "Epoch 48/60\n",
            "116/116 [==============================] - ETA: 0s - loss: 1.0847 - accuracy: 0.6253\n",
            "Epoch 48: val_accuracy did not improve from 0.91551\n",
            "116/116 [==============================] - 8s 73ms/step - loss: 1.0847 - accuracy: 0.6253 - val_loss: 0.3223 - val_accuracy: 0.9046 - lr: 0.0010\n",
            "Epoch 49/60\n",
            "116/116 [==============================] - ETA: 0s - loss: 1.0556 - accuracy: 0.6368\n",
            "Epoch 49: val_accuracy did not improve from 0.91551\n",
            "116/116 [==============================] - 8s 69ms/step - loss: 1.0556 - accuracy: 0.6368 - val_loss: 0.3204 - val_accuracy: 0.9024 - lr: 0.0010\n",
            "Epoch 50/60\n",
            "116/116 [==============================] - ETA: 0s - loss: 1.0528 - accuracy: 0.6369\n",
            "Epoch 50: val_accuracy improved from 0.91551 to 0.91818, saving model to sign_language_model_2.h5\n",
            "116/116 [==============================] - 9s 74ms/step - loss: 1.0528 - accuracy: 0.6369 - val_loss: 0.3035 - val_accuracy: 0.9182 - lr: 0.0010\n",
            "Epoch 51/60\n",
            "116/116 [==============================] - ETA: 0s - loss: 1.0509 - accuracy: 0.6422\n",
            "Epoch 51: val_accuracy did not improve from 0.91818\n",
            "116/116 [==============================] - 9s 76ms/step - loss: 1.0509 - accuracy: 0.6422 - val_loss: 0.3211 - val_accuracy: 0.9063 - lr: 0.0010\n",
            "Epoch 52/60\n",
            "116/116 [==============================] - ETA: 0s - loss: 1.0397 - accuracy: 0.6432\n",
            "Epoch 52: val_accuracy improved from 0.91818 to 0.93494, saving model to sign_language_model_2.h5\n",
            "116/116 [==============================] - 8s 71ms/step - loss: 1.0397 - accuracy: 0.6432 - val_loss: 0.2825 - val_accuracy: 0.9349 - lr: 0.0010\n",
            "Epoch 53/60\n",
            "116/116 [==============================] - ETA: 0s - loss: 1.0297 - accuracy: 0.6454\n",
            "Epoch 53: val_accuracy did not improve from 0.93494\n",
            "116/116 [==============================] - 9s 74ms/step - loss: 1.0297 - accuracy: 0.6454 - val_loss: 0.2883 - val_accuracy: 0.9218 - lr: 0.0010\n",
            "Epoch 54/60\n",
            "116/116 [==============================] - ETA: 0s - loss: 1.0356 - accuracy: 0.6461\n",
            "Epoch 54: val_accuracy did not improve from 0.93494\n",
            "116/116 [==============================] - 9s 77ms/step - loss: 1.0356 - accuracy: 0.6461 - val_loss: 0.3167 - val_accuracy: 0.8990 - lr: 0.0010\n",
            "Epoch 55/60\n",
            "116/116 [==============================] - ETA: 0s - loss: 1.0120 - accuracy: 0.6532\n",
            "Epoch 55: val_accuracy did not improve from 0.93494\n",
            "116/116 [==============================] - 9s 74ms/step - loss: 1.0120 - accuracy: 0.6532 - val_loss: 0.3109 - val_accuracy: 0.9097 - lr: 0.0010\n",
            "Epoch 56/60\n",
            "116/116 [==============================] - ETA: 0s - loss: 1.0042 - accuracy: 0.6585\n",
            "Epoch 56: val_accuracy did not improve from 0.93494\n",
            "116/116 [==============================] - 8s 73ms/step - loss: 1.0042 - accuracy: 0.6585 - val_loss: 0.2846 - val_accuracy: 0.9099 - lr: 0.0010\n",
            "Epoch 57/60\n",
            "116/116 [==============================] - ETA: 0s - loss: 1.0094 - accuracy: 0.6566\n",
            "Epoch 57: val_accuracy did not improve from 0.93494\n",
            "116/116 [==============================] - 8s 67ms/step - loss: 1.0094 - accuracy: 0.6566 - val_loss: 0.2548 - val_accuracy: 0.9347 - lr: 0.0010\n",
            "Epoch 58/60\n",
            "116/116 [==============================] - ETA: 0s - loss: 0.9946 - accuracy: 0.6623\n",
            "Epoch 58: val_accuracy did not improve from 0.93494\n",
            "116/116 [==============================] - 9s 77ms/step - loss: 0.9946 - accuracy: 0.6623 - val_loss: 0.2516 - val_accuracy: 0.9272 - lr: 0.0010\n",
            "Epoch 59/60\n",
            "116/116 [==============================] - ETA: 0s - loss: 0.9956 - accuracy: 0.6588\n",
            "Epoch 59: val_accuracy did not improve from 0.93494\n",
            "116/116 [==============================] - 9s 77ms/step - loss: 0.9956 - accuracy: 0.6588 - val_loss: 0.2600 - val_accuracy: 0.9303 - lr: 0.0010\n",
            "Epoch 60/60\n",
            "116/116 [==============================] - ETA: 0s - loss: 0.9799 - accuracy: 0.6644\n",
            "Epoch 60: val_accuracy did not improve from 0.93494\n",
            "116/116 [==============================] - 8s 68ms/step - loss: 0.9799 - accuracy: 0.6644 - val_loss: 0.2845 - val_accuracy: 0.9141 - lr: 0.0010\n"
          ]
        }
      ]
    },
    {
      "cell_type": "code",
      "source": [
        "history.history.keys()"
      ],
      "metadata": {
        "id": "5F2LXBDAiDlL"
      },
      "execution_count": null,
      "outputs": []
    },
    {
      "cell_type": "code",
      "source": [
        "fig,ax=plt.subplots(1,2,figsize=(25,10))\n",
        "ax[0].plot(history.history[\"loss\"],label=\"Training Loss\")\n",
        "ax[0].plot(history.history[\"val_loss\"],label=\"Validation Loss\")\n",
        "ax[0].set_title(\"Loss Plot\")\n",
        "ax[0].set_ylabel(\"Loss\")\n",
        "ax[0].set_xlabel(\"Epoch\")\n",
        "ax[0].legend()\n",
        "\n",
        "ax[1].plot(history.history[\"accuracy\"],label=\"Training accuracy\")\n",
        "ax[1].plot(history.history[\"val_accuracy\"],label=\"Validation accuracy\")\n",
        "ax[1].set_title(\"Accuracy Plot\")\n",
        "ax[1].set_ylabel(\"Accuracy\")\n",
        "ax[1].set_xlabel(\"Epoch\")\n",
        "ax[1].legend()\n",
        "\n",
        "plt.show()"
      ],
      "metadata": {
        "id": "Z8kU34uABkwY"
      },
      "execution_count": null,
      "outputs": []
    },
    {
      "cell_type": "code",
      "source": [
        "# confusion matrix\n",
        "# Predict the values from validation dataset\n",
        "Y_pred=model.predict(X_val)\n",
        "# Convert predictions classes to one hot vectors\n",
        "Y_pred_classes=np.argmax(Y_pred, axis=1)\n",
        "# Convert validation observation to one hot vectors\n",
        "Y_true=np.argmax(Y_val, axis=1)\n",
        "# Compute the confusion matrix\n",
        "confusion_mtx=confusion_matrix(Y_true,Y_pred_classes)\n",
        "# plot confusion matrix\n",
        "f,ax=plt.subplots(figsize=(15,12))\n",
        "sns.heatmap(confusion_mtx, annot=True, linewidths=0.01, cmap=\"Greens\", linecolor=\"gray\", fmt=\".1f\", ax=ax)\n",
        "plt.xlabel(\"Predict Label\")\n",
        "plt.ylabel(\"True Label\")\n",
        "plt.title(\"Confusion Matrix\")\n",
        "plt.show()"
      ],
      "metadata": {
        "id": "n-VqO6WgBwgH"
      },
      "execution_count": null,
      "outputs": []
    },
    {
      "cell_type": "code",
      "source": [
        "# For test data set:\n",
        "Y_test = label_binrizer.fit_transform(Y_test)\n",
        "\n",
        "Y_pred=model.predict(X_test)\n",
        "# Convert predictions classes to one hot vectors\n",
        "Y_pred_classes=np.argmax(Y_pred, axis=1)\n",
        "# Convert validation observation to one hot vectors\n",
        "Y_true=np.argmax(Y_test, axis=1)\n",
        "# Compute the confusion matrix\n",
        "confusion_mtx=confusion_matrix(Y_true,Y_pred_classes)\n",
        "# plot confusion matrix\n",
        "f,ax=plt.subplots(figsize=(15,12))\n",
        "sns.heatmap(confusion_mtx, annot=True, linewidths=0.01, cmap=\"Greens\", linecolor=\"gray\", fmt=\".1f\", ax=ax)\n",
        "plt.xlabel(\"Predict Label\")\n",
        "plt.ylabel(\"True Label\")\n",
        "plt.title(\"Confusion Matrix\")\n",
        "plt.show()"
      ],
      "metadata": {
        "id": "n33CKC1NB4Q6"
      },
      "execution_count": null,
      "outputs": []
    },
    {
      "cell_type": "code",
      "source": [
        "plt.figure(figsize=(25,25))\n",
        "\n",
        "for i in range(25):\n",
        "    plt.subplot(5,5,i+1)\n",
        "    plt.imshow(X_test[i])\n",
        "    plt.title(\"orginal : {} - predicted : {}\".format(chr(Y_true[i]+65), chr(Y_pred_classes[i]+65)))\n",
        "    plt.axis(\"off\")"
      ],
      "metadata": {
        "id": "_bJpdVFKB5xM"
      },
      "execution_count": null,
      "outputs": []
    }
  ],
  "metadata": {
    "accelerator": "GPU",
    "colab": {
      "provenance": [],
      "toc_visible": true
    },
    "kernelspec": {
      "display_name": "Python 3",
      "name": "python3"
    },
    "language_info": {
      "name": "python"
    }
  },
  "nbformat": 4,
  "nbformat_minor": 0
}